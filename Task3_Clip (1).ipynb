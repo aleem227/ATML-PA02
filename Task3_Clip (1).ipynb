{
  "nbformat": 4,
  "nbformat_minor": 0,
  "metadata": {
    "colab": {
      "provenance": [],
      "gpuType": "A100"
    },
    "kernelspec": {
      "name": "python3",
      "display_name": "Python 3"
    },
    "language_info": {
      "name": "python"
    },
    "accelerator": "GPU"
  },
  "cells": [
    {
      "cell_type": "markdown",
      "source": [
        "## **Task 3: Are Prompts a Stable Control Knob for DA/DG with CLIP**"
      ],
      "metadata": {
        "id": "CiQh5HWBMsMz"
      }
    },
    {
      "cell_type": "markdown",
      "metadata": {
        "id": "5f7c4dc3"
      },
      "source": [
        "## Task 1 - CLIP Zero-Shot vs Fine-Tuned on Domains\n",
        "\n"
      ]
    },
    {
      "cell_type": "code",
      "metadata": {
        "colab": {
          "base_uri": "https://localhost:8080/"
        },
        "collapsed": true,
        "id": "e1fa6c6e",
        "outputId": "d314aa20-8906-483b-b657-e182ee83146a"
      },
      "source": [
        "!pip install ftfy regex tqdm torch torchvision"
      ],
      "execution_count": null,
      "outputs": [
        {
          "output_type": "stream",
          "name": "stdout",
          "text": [
            "Requirement already satisfied: ftfy in /usr/local/lib/python3.12/dist-packages (6.3.1)\n",
            "Requirement already satisfied: regex in /usr/local/lib/python3.12/dist-packages (2024.11.6)\n",
            "Requirement already satisfied: tqdm in /usr/local/lib/python3.12/dist-packages (4.67.1)\n",
            "Requirement already satisfied: torch in /usr/local/lib/python3.12/dist-packages (2.8.0+cu126)\n",
            "Requirement already satisfied: torchvision in /usr/local/lib/python3.12/dist-packages (0.23.0+cu126)\n",
            "Requirement already satisfied: wcwidth in /usr/local/lib/python3.12/dist-packages (from ftfy) (0.2.14)\n",
            "Requirement already satisfied: filelock in /usr/local/lib/python3.12/dist-packages (from torch) (3.20.0)\n",
            "Requirement already satisfied: typing-extensions>=4.10.0 in /usr/local/lib/python3.12/dist-packages (from torch) (4.15.0)\n",
            "Requirement already satisfied: setuptools in /usr/local/lib/python3.12/dist-packages (from torch) (75.2.0)\n",
            "Requirement already satisfied: sympy>=1.13.3 in /usr/local/lib/python3.12/dist-packages (from torch) (1.13.3)\n",
            "Requirement already satisfied: networkx in /usr/local/lib/python3.12/dist-packages (from torch) (3.5)\n",
            "Requirement already satisfied: jinja2 in /usr/local/lib/python3.12/dist-packages (from torch) (3.1.6)\n",
            "Requirement already satisfied: fsspec in /usr/local/lib/python3.12/dist-packages (from torch) (2025.3.0)\n",
            "Requirement already satisfied: nvidia-cuda-nvrtc-cu12==12.6.77 in /usr/local/lib/python3.12/dist-packages (from torch) (12.6.77)\n",
            "Requirement already satisfied: nvidia-cuda-runtime-cu12==12.6.77 in /usr/local/lib/python3.12/dist-packages (from torch) (12.6.77)\n",
            "Requirement already satisfied: nvidia-cuda-cupti-cu12==12.6.80 in /usr/local/lib/python3.12/dist-packages (from torch) (12.6.80)\n",
            "Requirement already satisfied: nvidia-cudnn-cu12==9.10.2.21 in /usr/local/lib/python3.12/dist-packages (from torch) (9.10.2.21)\n",
            "Requirement already satisfied: nvidia-cublas-cu12==12.6.4.1 in /usr/local/lib/python3.12/dist-packages (from torch) (12.6.4.1)\n",
            "Requirement already satisfied: nvidia-cufft-cu12==11.3.0.4 in /usr/local/lib/python3.12/dist-packages (from torch) (11.3.0.4)\n",
            "Requirement already satisfied: nvidia-curand-cu12==10.3.7.77 in /usr/local/lib/python3.12/dist-packages (from torch) (10.3.7.77)\n",
            "Requirement already satisfied: nvidia-cusolver-cu12==11.7.1.2 in /usr/local/lib/python3.12/dist-packages (from torch) (11.7.1.2)\n",
            "Requirement already satisfied: nvidia-cusparse-cu12==12.5.4.2 in /usr/local/lib/python3.12/dist-packages (from torch) (12.5.4.2)\n",
            "Requirement already satisfied: nvidia-cusparselt-cu12==0.7.1 in /usr/local/lib/python3.12/dist-packages (from torch) (0.7.1)\n",
            "Requirement already satisfied: nvidia-nccl-cu12==2.27.3 in /usr/local/lib/python3.12/dist-packages (from torch) (2.27.3)\n",
            "Requirement already satisfied: nvidia-nvtx-cu12==12.6.77 in /usr/local/lib/python3.12/dist-packages (from torch) (12.6.77)\n",
            "Requirement already satisfied: nvidia-nvjitlink-cu12==12.6.85 in /usr/local/lib/python3.12/dist-packages (from torch) (12.6.85)\n",
            "Requirement already satisfied: nvidia-cufile-cu12==1.11.1.6 in /usr/local/lib/python3.12/dist-packages (from torch) (1.11.1.6)\n",
            "Requirement already satisfied: triton==3.4.0 in /usr/local/lib/python3.12/dist-packages (from torch) (3.4.0)\n",
            "Requirement already satisfied: numpy in /usr/local/lib/python3.12/dist-packages (from torchvision) (2.0.2)\n",
            "Requirement already satisfied: pillow!=8.3.*,>=5.3.0 in /usr/local/lib/python3.12/dist-packages (from torchvision) (11.3.0)\n",
            "Requirement already satisfied: mpmath<1.4,>=1.1.0 in /usr/local/lib/python3.12/dist-packages (from sympy>=1.13.3->torch) (1.3.0)\n",
            "Requirement already satisfied: MarkupSafe>=2.0 in /usr/local/lib/python3.12/dist-packages (from jinja2->torch) (3.0.3)\n"
          ]
        }
      ]
    },
    {
      "cell_type": "code",
      "metadata": {
        "colab": {
          "base_uri": "https://localhost:8080/"
        },
        "id": "3c296e0d",
        "outputId": "9916a407-6625-48b2-dbcf-1c1aab8b8778",
        "collapsed": true
      },
      "source": [
        "!pip install opendatasets"
      ],
      "execution_count": null,
      "outputs": [
        {
          "output_type": "stream",
          "name": "stdout",
          "text": [
            "Requirement already satisfied: opendatasets in /usr/local/lib/python3.12/dist-packages (0.1.22)\n",
            "Requirement already satisfied: tqdm in /usr/local/lib/python3.12/dist-packages (from opendatasets) (4.67.1)\n",
            "Requirement already satisfied: kaggle in /usr/local/lib/python3.12/dist-packages (from opendatasets) (1.7.4.5)\n",
            "Requirement already satisfied: click in /usr/local/lib/python3.12/dist-packages (from opendatasets) (8.3.0)\n",
            "Requirement already satisfied: bleach in /usr/local/lib/python3.12/dist-packages (from kaggle->opendatasets) (6.2.0)\n",
            "Requirement already satisfied: certifi>=14.05.14 in /usr/local/lib/python3.12/dist-packages (from kaggle->opendatasets) (2025.10.5)\n",
            "Requirement already satisfied: charset-normalizer in /usr/local/lib/python3.12/dist-packages (from kaggle->opendatasets) (3.4.3)\n",
            "Requirement already satisfied: idna in /usr/local/lib/python3.12/dist-packages (from kaggle->opendatasets) (3.10)\n",
            "Requirement already satisfied: protobuf in /usr/local/lib/python3.12/dist-packages (from kaggle->opendatasets) (5.29.5)\n",
            "Requirement already satisfied: python-dateutil>=2.5.3 in /usr/local/lib/python3.12/dist-packages (from kaggle->opendatasets) (2.9.0.post0)\n",
            "Requirement already satisfied: python-slugify in /usr/local/lib/python3.12/dist-packages (from kaggle->opendatasets) (8.0.4)\n",
            "Requirement already satisfied: requests in /usr/local/lib/python3.12/dist-packages (from kaggle->opendatasets) (2.32.4)\n",
            "Requirement already satisfied: setuptools>=21.0.0 in /usr/local/lib/python3.12/dist-packages (from kaggle->opendatasets) (75.2.0)\n",
            "Requirement already satisfied: six>=1.10 in /usr/local/lib/python3.12/dist-packages (from kaggle->opendatasets) (1.17.0)\n",
            "Requirement already satisfied: text-unidecode in /usr/local/lib/python3.12/dist-packages (from kaggle->opendatasets) (1.3)\n",
            "Requirement already satisfied: urllib3>=1.15.1 in /usr/local/lib/python3.12/dist-packages (from kaggle->opendatasets) (2.5.0)\n",
            "Requirement already satisfied: webencodings in /usr/local/lib/python3.12/dist-packages (from kaggle->opendatasets) (0.5.1)\n"
          ]
        }
      ]
    },
    {
      "cell_type": "code",
      "metadata": {
        "colab": {
          "base_uri": "https://localhost:8080/"
        },
        "collapsed": true,
        "id": "373dfb4b",
        "outputId": "d36dc902-9e65-4c41-fff2-7d75d5c15731"
      },
      "source": [
        "!pip install git+https://github.com/openai/CLIP.git"
      ],
      "execution_count": null,
      "outputs": [
        {
          "output_type": "stream",
          "name": "stdout",
          "text": [
            "Collecting git+https://github.com/openai/CLIP.git\n",
            "  Cloning https://github.com/openai/CLIP.git to /tmp/pip-req-build-yipzjvqt\n",
            "  Running command git clone --filter=blob:none --quiet https://github.com/openai/CLIP.git /tmp/pip-req-build-yipzjvqt\n",
            "  Resolved https://github.com/openai/CLIP.git to commit dcba3cb2e2827b402d2701e7e1c7d9fed8a20ef1\n",
            "  Preparing metadata (setup.py) ... \u001b[?25l\u001b[?25hdone\n",
            "Requirement already satisfied: ftfy in /usr/local/lib/python3.12/dist-packages (from clip==1.0) (6.3.1)\n",
            "Requirement already satisfied: packaging in /usr/local/lib/python3.12/dist-packages (from clip==1.0) (25.0)\n",
            "Requirement already satisfied: regex in /usr/local/lib/python3.12/dist-packages (from clip==1.0) (2024.11.6)\n",
            "Requirement already satisfied: tqdm in /usr/local/lib/python3.12/dist-packages (from clip==1.0) (4.67.1)\n",
            "Requirement already satisfied: torch in /usr/local/lib/python3.12/dist-packages (from clip==1.0) (2.8.0+cu126)\n",
            "Requirement already satisfied: torchvision in /usr/local/lib/python3.12/dist-packages (from clip==1.0) (0.23.0+cu126)\n",
            "Requirement already satisfied: wcwidth in /usr/local/lib/python3.12/dist-packages (from ftfy->clip==1.0) (0.2.14)\n",
            "Requirement already satisfied: filelock in /usr/local/lib/python3.12/dist-packages (from torch->clip==1.0) (3.20.0)\n",
            "Requirement already satisfied: typing-extensions>=4.10.0 in /usr/local/lib/python3.12/dist-packages (from torch->clip==1.0) (4.15.0)\n",
            "Requirement already satisfied: setuptools in /usr/local/lib/python3.12/dist-packages (from torch->clip==1.0) (75.2.0)\n",
            "Requirement already satisfied: sympy>=1.13.3 in /usr/local/lib/python3.12/dist-packages (from torch->clip==1.0) (1.13.3)\n",
            "Requirement already satisfied: networkx in /usr/local/lib/python3.12/dist-packages (from torch->clip==1.0) (3.5)\n",
            "Requirement already satisfied: jinja2 in /usr/local/lib/python3.12/dist-packages (from torch->clip==1.0) (3.1.6)\n",
            "Requirement already satisfied: fsspec in /usr/local/lib/python3.12/dist-packages (from torch->clip==1.0) (2025.3.0)\n",
            "Requirement already satisfied: nvidia-cuda-nvrtc-cu12==12.6.77 in /usr/local/lib/python3.12/dist-packages (from torch->clip==1.0) (12.6.77)\n",
            "Requirement already satisfied: nvidia-cuda-runtime-cu12==12.6.77 in /usr/local/lib/python3.12/dist-packages (from torch->clip==1.0) (12.6.77)\n",
            "Requirement already satisfied: nvidia-cuda-cupti-cu12==12.6.80 in /usr/local/lib/python3.12/dist-packages (from torch->clip==1.0) (12.6.80)\n",
            "Requirement already satisfied: nvidia-cudnn-cu12==9.10.2.21 in /usr/local/lib/python3.12/dist-packages (from torch->clip==1.0) (9.10.2.21)\n",
            "Requirement already satisfied: nvidia-cublas-cu12==12.6.4.1 in /usr/local/lib/python3.12/dist-packages (from torch->clip==1.0) (12.6.4.1)\n",
            "Requirement already satisfied: nvidia-cufft-cu12==11.3.0.4 in /usr/local/lib/python3.12/dist-packages (from torch->clip==1.0) (11.3.0.4)\n",
            "Requirement already satisfied: nvidia-curand-cu12==10.3.7.77 in /usr/local/lib/python3.12/dist-packages (from torch->clip==1.0) (10.3.7.77)\n",
            "Requirement already satisfied: nvidia-cusolver-cu12==11.7.1.2 in /usr/local/lib/python3.12/dist-packages (from torch->clip==1.0) (11.7.1.2)\n",
            "Requirement already satisfied: nvidia-cusparse-cu12==12.5.4.2 in /usr/local/lib/python3.12/dist-packages (from torch->clip==1.0) (12.5.4.2)\n",
            "Requirement already satisfied: nvidia-cusparselt-cu12==0.7.1 in /usr/local/lib/python3.12/dist-packages (from torch->clip==1.0) (0.7.1)\n",
            "Requirement already satisfied: nvidia-nccl-cu12==2.27.3 in /usr/local/lib/python3.12/dist-packages (from torch->clip==1.0) (2.27.3)\n",
            "Requirement already satisfied: nvidia-nvtx-cu12==12.6.77 in /usr/local/lib/python3.12/dist-packages (from torch->clip==1.0) (12.6.77)\n",
            "Requirement already satisfied: nvidia-nvjitlink-cu12==12.6.85 in /usr/local/lib/python3.12/dist-packages (from torch->clip==1.0) (12.6.85)\n",
            "Requirement already satisfied: nvidia-cufile-cu12==1.11.1.6 in /usr/local/lib/python3.12/dist-packages (from torch->clip==1.0) (1.11.1.6)\n",
            "Requirement already satisfied: triton==3.4.0 in /usr/local/lib/python3.12/dist-packages (from torch->clip==1.0) (3.4.0)\n",
            "Requirement already satisfied: numpy in /usr/local/lib/python3.12/dist-packages (from torchvision->clip==1.0) (2.0.2)\n",
            "Requirement already satisfied: pillow!=8.3.*,>=5.3.0 in /usr/local/lib/python3.12/dist-packages (from torchvision->clip==1.0) (11.3.0)\n",
            "Requirement already satisfied: mpmath<1.4,>=1.1.0 in /usr/local/lib/python3.12/dist-packages (from sympy>=1.13.3->torch->clip==1.0) (1.3.0)\n",
            "Requirement already satisfied: MarkupSafe>=2.0 in /usr/local/lib/python3.12/dist-packages (from jinja2->torch->clip==1.0) (3.0.3)\n"
          ]
        }
      ]
    },
    {
      "cell_type": "code",
      "metadata": {
        "id": "9398b57a"
      },
      "source": [
        "import torch\n",
        "import torchvision\n",
        "import clip\n",
        "import ftfy\n",
        "import regex\n",
        "import tqdm\n",
        "import tarfile\n",
        "import os\n",
        "from torchvision import datasets, transforms\n",
        "from torch.utils.data import DataLoader\n",
        "import opendatasets as od"
      ],
      "execution_count": null,
      "outputs": []
    },
    {
      "cell_type": "code",
      "metadata": {
        "colab": {
          "base_uri": "https://localhost:8080/"
        },
        "id": "d91de819",
        "outputId": "eb841a3e-fb78-4313-b288-2fd300e249c7"
      },
      "source": [
        "dataset_path = './pacs-dataset/kfold'\n",
        "\n",
        "if not os.path.exists(dataset_path):\n",
        "    print(\"Dataset not found locally, attempting to download from Kaggle...\")\n",
        "    od.download(\"https://www.kaggle.com/datasets/ma3ple/pacs-dataset/data\")\n",
        "    print(\"Download complete.\")\n",
        "\n",
        "preprocess = transforms.Compose([\n",
        "    transforms.Resize(256),\n",
        "    transforms.CenterCrop(224),\n",
        "    transforms.ToTensor(),\n",
        "    transforms.Normalize(mean=[0.485, 0.456, 0.406], std=[0.229, 0.224, 0.225])\n",
        "])\n",
        "\n",
        "domains = ['art_painting', 'cartoon', 'photo', 'sketch']\n",
        "data_loaders = {}\n",
        "for domain in domains:\n",
        "    domain_path = os.path.join(dataset_path, domain)\n",
        "    if os.path.exists(domain_path):\n",
        "        dataset = datasets.ImageFolder(domain_path, transform=preprocess)\n",
        "        data_loaders[domain] = DataLoader(dataset, batch_size=32, shuffle=True)\n",
        "        print(f\"Loaded data for domain: {domain} with {len(dataset)} images.\")\n",
        "    else:\n",
        "        print(f\"Domain path not found: {domain_path}\")"
      ],
      "execution_count": null,
      "outputs": [
        {
          "output_type": "stream",
          "name": "stdout",
          "text": [
            "Loaded data for domain: art_painting with 2048 images.\n",
            "Loaded data for domain: cartoon with 2344 images.\n",
            "Loaded data for domain: photo with 1670 images.\n",
            "Loaded data for domain: sketch with 3929 images.\n"
          ]
        }
      ]
    },
    {
      "cell_type": "code",
      "metadata": {
        "colab": {
          "base_uri": "https://localhost:8080/"
        },
        "id": "00244a13",
        "outputId": "37d4aaf6-4605-482d-9796-b53796fd8abd"
      },
      "source": [
        "device = \"cuda\" if torch.cuda.is_available() else \"cpu\"\n",
        "model, preprocess = clip.load(\"ViT-B/32\", device=device)\n",
        "print(f\"CLIP model loaded on {device}\")"
      ],
      "execution_count": null,
      "outputs": [
        {
          "output_type": "stream",
          "name": "stdout",
          "text": [
            "CLIP model loaded on cuda\n"
          ]
        }
      ]
    },
    {
      "cell_type": "markdown",
      "metadata": {
        "id": "7aeea377"
      },
      "source": [
        "**Zero-shot evaluation**\n",
        "\n"
      ]
    },
    {
      "cell_type": "code",
      "metadata": {
        "colab": {
          "base_uri": "https://localhost:8080/"
        },
        "id": "8b12b0ba",
        "outputId": "27c82d57-d2f7-4c25-93f0-795ca8ec95c2"
      },
      "source": [
        "class_names = ['dog', 'elephant', 'giraffe', 'guitar', 'horse', 'house', 'person']\n",
        "\n",
        "def generate_prompts(class_name):\n",
        "    prompts = [\n",
        "        f\"a photo of a {class_name}\",\n",
        "        f\"a sketch of a {class_name}\",\n",
        "        f\"an art painting of a {class_name}\",\n",
        "        f\"a cartoon of a {class_name}\",\n",
        "        f\"a picture of a {class_name}\",\n",
        "        f\"an image of a {class_name}\",\n",
        "    ]\n",
        "    return prompts\n",
        "\n",
        "zero_shot_accuracies = {}\n",
        "\n",
        "with torch.no_grad():\n",
        "    for domain, data_loader in data_loaders.items():\n",
        "        print(f\"Performing zero-shot classification on domain: {domain}\")\n",
        "        correct_predictions = 0\n",
        "        total_images = 0\n",
        "\n",
        "        all_prompts = [prompt for class_name in class_names for prompt in generate_prompts(class_name)]\n",
        "        text_tokens = clip.tokenize(all_prompts).to(device)\n",
        "        text_features = model.encode_text(text_tokens)\n",
        "        text_features /= text_features.norm(dim=-1, keepdim=True)\n",
        "\n",
        "        num_prompts_per_class = len(generate_prompts(class_names[0]))\n",
        "        text_features = text_features.view(len(class_names), num_prompts_per_class, -1)\n",
        "        text_features = text_features.mean(dim=1) # Average prompts per class\n",
        "        text_features /= text_features.norm(dim=-1, keepdim=True)\n",
        "\n",
        "\n",
        "        for images, labels in tqdm.tqdm(data_loader):\n",
        "            images = images.to(device)\n",
        "            labels = labels.to(device)\n",
        "\n",
        "            image_features = model.encode_image(images)\n",
        "            image_features /= image_features.norm(dim=-1, keepdim=True)\n",
        "\n",
        "            similarity = (100.0 * image_features @ text_features.T).softmax(dim=-1)\n",
        "\n",
        "            _, predicted = similarity.max(dim=1)\n",
        "\n",
        "            correct_predictions += (predicted == labels).sum().item()\n",
        "            total_images += labels.size(0)\n",
        "\n",
        "        accuracy = correct_predictions / total_images\n",
        "        zero_shot_accuracies[domain] = accuracy\n",
        "        print(f\"Zero-shot accuracy for {domain}: {accuracy:.4f}\")\n",
        "\n",
        "print(\"\\nZero-shot accuracies per domain:\")\n",
        "for domain, accuracy in zero_shot_accuracies.items():\n",
        "    print(f\"{domain}: {accuracy:.4f}\")"
      ],
      "execution_count": null,
      "outputs": [
        {
          "output_type": "stream",
          "name": "stdout",
          "text": [
            "Performing zero-shot classification on domain: art_painting\n"
          ]
        },
        {
          "output_type": "stream",
          "name": "stderr",
          "text": [
            "100%|██████████| 64/64 [00:06<00:00, 10.17it/s]\n"
          ]
        },
        {
          "output_type": "stream",
          "name": "stdout",
          "text": [
            "Zero-shot accuracy for art_painting: 0.9561\n",
            "Performing zero-shot classification on domain: cartoon\n"
          ]
        },
        {
          "output_type": "stream",
          "name": "stderr",
          "text": [
            "100%|██████████| 74/74 [00:06<00:00, 11.86it/s]\n"
          ]
        },
        {
          "output_type": "stream",
          "name": "stdout",
          "text": [
            "Zero-shot accuracy for cartoon: 0.9727\n",
            "Performing zero-shot classification on domain: photo\n"
          ]
        },
        {
          "output_type": "stream",
          "name": "stderr",
          "text": [
            "100%|██████████| 53/53 [00:04<00:00, 11.66it/s]\n"
          ]
        },
        {
          "output_type": "stream",
          "name": "stdout",
          "text": [
            "Zero-shot accuracy for photo: 0.9970\n",
            "Performing zero-shot classification on domain: sketch\n"
          ]
        },
        {
          "output_type": "stream",
          "name": "stderr",
          "text": [
            "100%|██████████| 123/123 [00:11<00:00, 11.01it/s]"
          ]
        },
        {
          "output_type": "stream",
          "name": "stdout",
          "text": [
            "Zero-shot accuracy for sketch: 0.8465\n",
            "\n",
            "Zero-shot accuracies per domain:\n",
            "art_painting: 0.9561\n",
            "cartoon: 0.9727\n",
            "photo: 0.9970\n",
            "sketch: 0.8465\n"
          ]
        },
        {
          "output_type": "stream",
          "name": "stderr",
          "text": [
            "\n"
          ]
        }
      ]
    },
    {
      "cell_type": "markdown",
      "metadata": {
        "id": "db87050f"
      },
      "source": [
        "**Fine-tuning evaluation**"
      ]
    },
    {
      "cell_type": "code",
      "source": [
        "source_domains = ['art_painting', 'cartoon', 'photo']\n",
        "target_domain = 'sketch'\n",
        "all_features = []\n",
        "all_labels = []\n",
        "\n",
        "with torch.no_grad():\n",
        "    for domain in source_domains:\n",
        "        print(f\"Extracting features from domain: {domain}\")\n",
        "        data_loader = data_loaders[domain]\n",
        "        for images, labels in tqdm.tqdm(data_loader):\n",
        "            images = images.to(device)\n",
        "            labels = labels.to(device)\n",
        "\n",
        "            features = model.encode_image(images)\n",
        "\n",
        "            all_features.append(features.cpu())\n",
        "            all_labels.append(labels.cpu())\n",
        "\n",
        "all_features = torch.cat(all_features)\n",
        "all_labels = torch.cat(all_labels)\n",
        "\n",
        "all_features = all_features.float()\n",
        "\n",
        "\n",
        "print(f\"Shape of extracted features: {all_features.shape}\")\n",
        "print(f\"Shape of extracted labels: {all_labels.shape}\")"
      ],
      "metadata": {
        "colab": {
          "base_uri": "https://localhost:8080/"
        },
        "id": "htII7yFCPIGf",
        "outputId": "8181b77d-31bd-42cd-9540-b0975392fda9"
      },
      "execution_count": null,
      "outputs": [
        {
          "output_type": "stream",
          "name": "stdout",
          "text": [
            "Extracting features from domain: art_painting\n"
          ]
        },
        {
          "output_type": "stream",
          "name": "stderr",
          "text": [
            "100%|██████████| 64/64 [00:05<00:00, 11.37it/s]\n"
          ]
        },
        {
          "output_type": "stream",
          "name": "stdout",
          "text": [
            "Extracting features from domain: cartoon\n"
          ]
        },
        {
          "output_type": "stream",
          "name": "stderr",
          "text": [
            "100%|██████████| 74/74 [00:06<00:00, 11.94it/s]\n"
          ]
        },
        {
          "output_type": "stream",
          "name": "stdout",
          "text": [
            "Extracting features from domain: photo\n"
          ]
        },
        {
          "output_type": "stream",
          "name": "stderr",
          "text": [
            "100%|██████████| 53/53 [00:04<00:00, 11.49it/s]\n"
          ]
        },
        {
          "output_type": "stream",
          "name": "stdout",
          "text": [
            "Shape of extracted features: torch.Size([6062, 512])\n",
            "Shape of extracted labels: torch.Size([6062])\n"
          ]
        }
      ]
    },
    {
      "cell_type": "code",
      "metadata": {
        "colab": {
          "base_uri": "https://localhost:8080/"
        },
        "id": "aAtMR86hKwBt",
        "outputId": "fd91418b-a461-4f0a-eec9-1857c6c0bf52"
      },
      "source": [
        "input_size = all_features.shape[1]\n",
        "num_classes = len(class_names)\n",
        "linear_classifier = torch.nn.Linear(input_size, num_classes).to(device)\n",
        "\n",
        "criterion = torch.nn.CrossEntropyLoss()\n",
        "optimizer = torch.optim.Adam(linear_classifier.parameters(), lr=1e-3)\n",
        "\n",
        "num_epochs = 10\n",
        "batch_size = 32\n",
        "dataset = torch.utils.data.TensorDataset(all_features, all_labels)\n",
        "train_loader = torch.utils.data.DataLoader(dataset, batch_size=batch_size, shuffle=True)\n",
        "\n",
        "print(\"Training linear classifier...\")\n",
        "for epoch in range(num_epochs):\n",
        "    linear_classifier.train()\n",
        "    running_loss = 0.0\n",
        "    for features, labels in tqdm.tqdm(train_loader):\n",
        "        features = features.to(device)\n",
        "        labels = labels.to(device)\n",
        "\n",
        "        optimizer.zero_grad()\n",
        "        outputs = linear_classifier(features)\n",
        "        loss = criterion(outputs, labels)\n",
        "        loss.backward()\n",
        "        optimizer.step()\n",
        "        running_loss += loss.item()\n",
        "\n",
        "    print(f\"Epoch {epoch+1}/{num_epochs}, Loss: {running_loss/len(train_loader):.4f}\")\n",
        "\n",
        "print(\"Training complete.\")"
      ],
      "execution_count": null,
      "outputs": [
        {
          "output_type": "stream",
          "name": "stdout",
          "text": [
            "Training linear classifier...\n"
          ]
        },
        {
          "output_type": "stream",
          "name": "stderr",
          "text": [
            "100%|██████████| 190/190 [00:00<00:00, 471.04it/s]\n"
          ]
        },
        {
          "output_type": "stream",
          "name": "stdout",
          "text": [
            "Epoch 1/10, Loss: 0.5360\n"
          ]
        },
        {
          "output_type": "stream",
          "name": "stderr",
          "text": [
            "100%|██████████| 190/190 [00:00<00:00, 808.35it/s]\n"
          ]
        },
        {
          "output_type": "stream",
          "name": "stdout",
          "text": [
            "Epoch 2/10, Loss: 0.1295\n"
          ]
        },
        {
          "output_type": "stream",
          "name": "stderr",
          "text": [
            "100%|██████████| 190/190 [00:00<00:00, 796.60it/s]\n"
          ]
        },
        {
          "output_type": "stream",
          "name": "stdout",
          "text": [
            "Epoch 3/10, Loss: 0.0852\n"
          ]
        },
        {
          "output_type": "stream",
          "name": "stderr",
          "text": [
            "100%|██████████| 190/190 [00:00<00:00, 782.89it/s]\n"
          ]
        },
        {
          "output_type": "stream",
          "name": "stdout",
          "text": [
            "Epoch 4/10, Loss: 0.0666\n"
          ]
        },
        {
          "output_type": "stream",
          "name": "stderr",
          "text": [
            "100%|██████████| 190/190 [00:00<00:00, 779.25it/s]\n"
          ]
        },
        {
          "output_type": "stream",
          "name": "stdout",
          "text": [
            "Epoch 5/10, Loss: 0.0554\n"
          ]
        },
        {
          "output_type": "stream",
          "name": "stderr",
          "text": [
            "100%|██████████| 190/190 [00:00<00:00, 787.02it/s]\n"
          ]
        },
        {
          "output_type": "stream",
          "name": "stdout",
          "text": [
            "Epoch 6/10, Loss: 0.0475\n"
          ]
        },
        {
          "output_type": "stream",
          "name": "stderr",
          "text": [
            "100%|██████████| 190/190 [00:00<00:00, 770.15it/s]\n"
          ]
        },
        {
          "output_type": "stream",
          "name": "stdout",
          "text": [
            "Epoch 7/10, Loss: 0.0415\n"
          ]
        },
        {
          "output_type": "stream",
          "name": "stderr",
          "text": [
            "100%|██████████| 190/190 [00:00<00:00, 776.13it/s]\n"
          ]
        },
        {
          "output_type": "stream",
          "name": "stdout",
          "text": [
            "Epoch 8/10, Loss: 0.0370\n"
          ]
        },
        {
          "output_type": "stream",
          "name": "stderr",
          "text": [
            "100%|██████████| 190/190 [00:00<00:00, 791.33it/s]\n"
          ]
        },
        {
          "output_type": "stream",
          "name": "stdout",
          "text": [
            "Epoch 9/10, Loss: 0.0333\n"
          ]
        },
        {
          "output_type": "stream",
          "name": "stderr",
          "text": [
            "100%|██████████| 190/190 [00:00<00:00, 797.27it/s]"
          ]
        },
        {
          "output_type": "stream",
          "name": "stdout",
          "text": [
            "Epoch 10/10, Loss: 0.0302\n",
            "Training complete.\n"
          ]
        },
        {
          "output_type": "stream",
          "name": "stderr",
          "text": [
            "\n"
          ]
        }
      ]
    },
    {
      "cell_type": "code",
      "metadata": {
        "colab": {
          "base_uri": "https://localhost:8080/"
        },
        "id": "088fab8d",
        "outputId": "878949c9-4d4c-48e1-8d2e-b1b032c85d4c"
      },
      "source": [
        "target_domain = 'sketch'\n",
        "target_features = []\n",
        "target_labels = []\n",
        "\n",
        "with torch.no_grad():\n",
        "    print(f\"Extracting features from target domain: {target_domain}\")\n",
        "    data_loader = data_loaders[target_domain]\n",
        "    for images, labels in tqdm.tqdm(data_loader):\n",
        "        images = images.to(device)\n",
        "        labels = labels.to(device)\n",
        "        features = model.encode_image(images)\n",
        "        target_features.append(features.cpu())\n",
        "        target_labels.append(labels.cpu())\n",
        "\n",
        "target_features = torch.cat(target_features)\n",
        "target_labels = torch.cat(target_labels)\n",
        "target_features = target_features.float()\n",
        "\n",
        "print(f\"Shape of target features: {target_features.shape}\")\n",
        "print(f\"Shape of target labels: {target_labels.shape}\")"
      ],
      "execution_count": null,
      "outputs": [
        {
          "output_type": "stream",
          "name": "stdout",
          "text": [
            "Extracting features from target domain: sketch\n"
          ]
        },
        {
          "output_type": "stream",
          "name": "stderr",
          "text": [
            "100%|██████████| 123/123 [00:11<00:00, 11.08it/s]"
          ]
        },
        {
          "output_type": "stream",
          "name": "stdout",
          "text": [
            "Shape of target features: torch.Size([3929, 512])\n",
            "Shape of target labels: torch.Size([3929])\n"
          ]
        },
        {
          "output_type": "stream",
          "name": "stderr",
          "text": [
            "\n"
          ]
        }
      ]
    },
    {
      "cell_type": "code",
      "source": [
        "linear_classifier.eval()\n",
        "correct_predictions = 0\n",
        "total_images = 0\n",
        "\n",
        "with torch.no_grad():\n",
        "    target_dataset = torch.utils.data.TensorDataset(target_features, target_labels)\n",
        "    target_loader = torch.utils.data.DataLoader(target_dataset, batch_size=batch_size)\n",
        "\n",
        "    print(f\"Evaluating linear classifier on target domain: {target_domain}\")\n",
        "    for features, labels in tqdm.tqdm(target_loader):\n",
        "        features = features.to(device)\n",
        "        labels = labels.to(device)\n",
        "\n",
        "        outputs = linear_classifier(features)\n",
        "        _, predicted = torch.max(outputs.data, 1)\n",
        "\n",
        "        total_images += labels.size(0)\n",
        "        correct_predictions += (predicted == labels).sum().item()\n",
        "\n",
        "fine_tuned_accuracy = correct_predictions / total_images\n",
        "print(f\"\\nFine-tuned accuracy on {target_domain} domain: {fine_tuned_accuracy:.4f}\")\n"
      ],
      "metadata": {
        "colab": {
          "base_uri": "https://localhost:8080/"
        },
        "id": "Ur96Ieo7Pma-",
        "outputId": "b64b6d2b-c994-4d14-b76e-d19bd556ae8d"
      },
      "execution_count": null,
      "outputs": [
        {
          "output_type": "stream",
          "name": "stdout",
          "text": [
            "Evaluating linear classifier on target domain: sketch\n"
          ]
        },
        {
          "output_type": "stream",
          "name": "stderr",
          "text": [
            "100%|██████████| 123/123 [00:00<00:00, 1692.37it/s]"
          ]
        },
        {
          "output_type": "stream",
          "name": "stdout",
          "text": [
            "\n",
            "Fine-tuned accuracy on sketch domain: 0.8559\n"
          ]
        },
        {
          "output_type": "stream",
          "name": "stderr",
          "text": [
            "\n"
          ]
        }
      ]
    },
    {
      "cell_type": "code",
      "metadata": {
        "colab": {
          "base_uri": "https://localhost:8080/",
          "height": 1000
        },
        "id": "28c56da8",
        "outputId": "29b40acc-578b-4bdf-affc-8b3be87abfe7"
      },
      "source": [
        "import matplotlib.pyplot as plt\n",
        "import pandas as pd\n",
        "\n",
        "domains = list(zero_shot_accuracies.keys())\n",
        "zero_shot_accs = list(zero_shot_accuracies.values())\n",
        "\n",
        "target_domain_accuracy_labels = ['Zero-shot', 'Fine-tuned']\n",
        "target_domain_accuracies = [zero_shot_accuracies['sketch'], fine_tuned_accuracy]\n",
        "\n",
        "plt.figure(figsize=(10, 6))\n",
        "plt.bar(domains, zero_shot_accs, color=['blue', 'green', 'red', 'purple'])\n",
        "plt.xlabel('Domain')\n",
        "plt.ylabel('Accuracy')\n",
        "plt.title('Zero-Shot CLIP Accuracy per Domain on PACS')\n",
        "plt.ylim(0, 1)\n",
        "plt.grid(axis='y', linestyle='--')\n",
        "plt.show()\n",
        "\n",
        "plt.figure(figsize=(6, 5))\n",
        "plt.bar(target_domain_accuracy_labels, target_domain_accuracies, color=['blue', 'orange'])\n",
        "plt.xlabel('Method')\n",
        "plt.ylabel('Accuracy')\n",
        "plt.title('Zero-Shot vs. Fine-Tuned Accuracy on PACS Sketch Domain')\n",
        "plt.ylim(0, 1)\n",
        "plt.grid(axis='y', linestyle='--')\n",
        "plt.show()"
      ],
      "execution_count": null,
      "outputs": [
        {
          "output_type": "display_data",
          "data": {
            "text/plain": [
              "<Figure size 1000x600 with 1 Axes>"
            ],
            "image/png": "[encoded data removed]"
          },
          "metadata": {}
        },
        {
          "output_type": "display_data",
          "data": {
            "text/plain": [
              "<Figure size 600x500 with 1 Axes>"
            ],
            "image/png": "[encoded data removed]"
          },
          "metadata": {}
        }
      ]
    },
    {
      "cell_type": "markdown",
      "metadata": {
        "id": "2b1082f6"
      },
      "source": [
        "## Summary:\n",
        "\n",
        "### Data Analysis Key Findings\n",
        "\n",
        "*   The zero-shot performance of the CLIP model varied significantly across the PACS domains: 'photo' achieved the highest accuracy at 0.9970, while 'sketch' had the lowest at 0.8465. 'art\\_painting' and 'cartoon' showed intermediate performance at 0.9561 and 0.9727, respectively.\n",
        "*   Fine-tuning a linear classifier on features extracted from the source domains ('art\\_painting', 'cartoon', 'photo') resulted in a modest improvement in performance on the target 'sketch' domain, increasing the accuracy from 0.8465 (zero-shot) to 0.8587 (fine-tuned).\n",
        "\n",
        "### Insights or Next Steps\n",
        "\n",
        "*   The significant difference in zero-shot accuracy across domains highlights the domain shift challenge, indicating that CLIP's zero-shot capability is highly dependent on the similarity between the target domain and its pre-training data distribution.\n",
        "*   The slight improvement on the 'sketch' domain after fine-tuning suggests that even simple adaptation methods can be beneficial for domains significantly different from the pre-training data, demonstrating the potential of fine-tuning to improve performance at the cost of requiring labeled data and potentially reducing generality to entirely unseen domains.\n"
      ]
    },
    {
      "cell_type": "markdown",
      "metadata": {
        "id": "dd0beb84"
      },
      "source": [
        "## Task 2 - Prompt-Learning with CLIP"
      ]
    },
    {
      "cell_type": "code",
      "metadata": {
        "colab": {
          "base_uri": "https://localhost:8080/"
        },
        "id": "ae5a48c5",
        "outputId": "bc61e42e-f96c-47ea-ba19-ea2d6710edcd"
      },
      "source": [
        "source_domain = 'art_painting'\n",
        "target_domain = 'sketch'\n",
        "\n",
        "source_data_loader = data_loaders[source_domain]\n",
        "target_data_loader = data_loaders[target_domain]\n",
        "\n",
        "print(f\"Source domain: {source_domain}\")\n",
        "print(f\"Target domain: {target_domain}\")\n",
        "print(f\"Source data loader: {source_data_loader}\")\n",
        "print(f\"Target data loader: {target_data_loader}\")"
      ],
      "execution_count": null,
      "outputs": [
        {
          "output_type": "stream",
          "name": "stdout",
          "text": [
            "Source domain: art_painting\n",
            "Target domain: sketch\n",
            "Source data loader: <torch.utils.data.dataloader.DataLoader object at 0x7e940ceb2d20>\n",
            "Target data loader: <torch.utils.data.dataloader.DataLoader object at 0x7e940bf78ec0>\n"
          ]
        }
      ]
    },
    {
      "cell_type": "code",
      "metadata": {
        "colab": {
          "base_uri": "https://localhost:8080/"
        },
        "id": "2c0cf70c",
        "outputId": "0c29b4d3-a3b9-4ffa-ec03-86e5104f9cad"
      },
      "source": [
        "device = \"cuda\" if torch.cuda.is_available() else \"cpu\"\n",
        "model, preprocess = clip.load(\"ViT-B/32\", device=device)\n",
        "\n",
        "for param in model.parameters():\n",
        "    param.requires_grad_(False)\n",
        "\n",
        "print(f\"CLIP model loaded on {device} and parameters frozen.\")"
      ],
      "execution_count": null,
      "outputs": [
        {
          "output_type": "stream",
          "name": "stdout",
          "text": [
            "CLIP model loaded on cuda and parameters frozen.\n"
          ]
        }
      ]
    },
    {
      "cell_type": "code",
      "metadata": {
        "colab": {
          "base_uri": "https://localhost:8080/"
        },
        "id": "f15a32c4",
        "outputId": "5fd884c7-878a-4505-f778-16131859b4f7"
      },
      "source": [
        "import torch.nn as nn\n",
        "\n",
        "prompt_length = 16 # This is a hyperparameter, can be adjusted\n",
        "embedding_dimension = model.text_projection.shape[1] if hasattr(model, 'text_projection') and model.text_projection is not None else model.ln_final.normalized_shape[0]\n",
        "learnable_prompt = nn.Parameter(torch.randn(prompt_length, embedding_dimension))\n",
        "learnable_prompt = learnable_prompt.to(device)\n",
        "\n",
        "print(f\"Shape of initialized learnable prompt: {learnable_prompt.shape}\")"
      ],
      "execution_count": null,
      "outputs": [
        {
          "output_type": "stream",
          "name": "stdout",
          "text": [
            "Shape of initialized learnable prompt: torch.Size([16, 512])\n"
          ]
        }
      ]
    },
    {
      "cell_type": "code",
      "metadata": {
        "colab": {
          "base_uri": "https://localhost:8080/"
        },
        "id": "ZJshelG3Lu9f",
        "outputId": "1249c610-09e1-4aad-8a07-1891e9902adb"
      },
      "source": [
        "import torch.nn as nn\n",
        "\n",
        "prompt_length = 16\n",
        "embedding_dimension = model.text_projection.shape[1] if hasattr(model, 'text_projection') and model.text_projection is not None else model.ln_final.normalized_shape[0]\n",
        "\n",
        "learnable_prompt = nn.Parameter(torch.randn(prompt_length, embedding_dimension, device=device))\n",
        "supervised_loss_function = torch.nn.CrossEntropyLoss()\n",
        "optimizer = torch.optim.Adam([learnable_prompt], lr=1e-3)\n",
        "unsupervised_loss_function = None\n",
        "print(\"Loss functions and optimizer defined.\")\n",
        "print(f\"Shape of re-initialized learnable prompt: {learnable_prompt.shape}\")"
      ],
      "execution_count": null,
      "outputs": [
        {
          "output_type": "stream",
          "name": "stdout",
          "text": [
            "Loss functions and optimizer defined.\n",
            "Shape of re-initialized learnable prompt: torch.Size([16, 512])\n"
          ]
        }
      ]
    },
    {
      "cell_type": "code",
      "metadata": {
        "id": "ga9ORnOwMAmX"
      },
      "source": [
        "import itertools\n",
        "import torch.nn.functional as F\n",
        "import tqdm\n",
        "\n",
        "unsupervised_loss_weight = 0.1\n",
        "num_prompt_epochs = 20\n",
        "temperature = 100.0\n",
        "\n",
        "def get_text_features(class_names, learnable_prompt, model, device, dtype):\n",
        "    class_name_tokens = clip.tokenize(class_names).to(device)\n",
        "    with torch.no_grad():\n",
        "        class_name_features = model.encode_text(class_name_tokens).to(dtype)\n",
        "\n",
        "    averaged_prompt_feature = learnable_prompt.mean(dim=0).unsqueeze(0).to(dtype)\n",
        "    averaged_prompt_feature_expanded = averaged_prompt_feature.expand(len(class_names), -1)\n",
        "    combined_features = class_name_features + averaged_prompt_feature_expanded\n",
        "    combined_features = combined_features / combined_features.norm(dim=-1, keepdim=True)\n",
        "\n",
        "    return combined_features"
      ],
      "execution_count": null,
      "outputs": []
    },
    {
      "cell_type": "code",
      "source": [
        "source_iter = itertools.cycle(source_data_loader)\n",
        "target_iter = itertools.cycle(target_data_loader)\n",
        "print(\"Starting prompt learning training...\")"
      ],
      "metadata": {
        "colab": {
          "base_uri": "https://localhost:8080/"
        },
        "id": "DEIfnsCmRrKJ",
        "outputId": "272102a6-01f0-449a-9d7f-5a8dcf57e582"
      },
      "execution_count": null,
      "outputs": [
        {
          "output_type": "stream",
          "name": "stdout",
          "text": [
            "Starting prompt learning training...\n"
          ]
        }
      ]
    },
    {
      "cell_type": "code",
      "source": [
        "for epoch in range(num_prompt_epochs):\n",
        "    running_supervised_loss = 0.0\n",
        "    running_unsupervised_loss = 0.0\n",
        "    running_total_loss = 0.0\n",
        "    num_batches = min(len(source_data_loader), len(target_data_loader))\n",
        "    learnable_prompt.requires_grad_(True)\n",
        "\n",
        "    for i in tqdm.tqdm(range(num_batches), desc=f\"Epoch {epoch+1}/{num_prompt_epochs}\"):\n",
        "        source_images, source_labels = next(source_iter)\n",
        "        target_images, _ = next(target_iter)\n",
        "\n",
        "        source_images = source_images.to(device)\n",
        "        source_labels = source_labels.to(device)\n",
        "        target_images = target_images.to(device)\n",
        "\n",
        "        optimizer.zero_grad()\n",
        "        image_features_dtype = model.encode_image(source_images[:1]).dtype\n",
        "        text_features_with_prompt = get_text_features(class_names, learnable_prompt, model, device, image_features_dtype)\n",
        "\n",
        "        with torch.no_grad():\n",
        "             source_image_features = model.encode_image(source_images)\n",
        "             source_image_features = source_image_features / source_image_features.norm(dim=-1, keepdim=True)\n",
        "\n",
        "        source_similarity = (temperature * source_image_features @ text_features_with_prompt.T).softmax(dim=-1)\n",
        "        supervised_loss = supervised_loss_function(source_similarity, source_labels)\n",
        "        running_supervised_loss += supervised_loss.item()\n",
        "\n",
        "        with torch.no_grad():\n",
        "             target_image_features = model.encode_image(target_images)\n",
        "             target_image_features = target_image_features / target_image_features.norm(dim=-1, keepdim=True)\n",
        "             target_similarity = (temperature * target_image_features @ text_features_with_prompt.T).softmax(dim=-1)\n",
        "             pseudo_labels = torch.argmax(target_similarity, dim=1)\n",
        "        unsupervised_loss = supervised_loss_function(target_similarity, pseudo_labels)\n",
        "        running_unsupervised_loss += unsupervised_loss.item()\n",
        "        total_loss = supervised_loss + unsupervised_loss_weight * unsupervised_loss\n",
        "        running_total_loss += total_loss.item()\n",
        "        total_loss.backward()\n",
        "        optimizer.step()\n",
        "    print(f\"Epoch {epoch+1}/{num_prompt_epochs}, Supervised Loss: {running_supervised_loss/num_batches:.4f}, Unsupervised Loss: {running_unsupervised_loss/num_batches:.4f}, Total Loss: {running_total_loss/num_batches:.4f}\")\n",
        "\n",
        "print(\"Prompt learning training complete.\")"
      ],
      "metadata": {
        "colab": {
          "base_uri": "https://localhost:8080/"
        },
        "id": "CuYTY2_DRgGX",
        "outputId": "a2a34b40-d8a9-4294-e2a8-85a953a58209"
      },
      "execution_count": null,
      "outputs": [
        {
          "output_type": "stream",
          "name": "stderr",
          "text": [
            "Epoch 1/20: 100%|██████████| 64/64 [00:13<00:00,  4.91it/s]\n"
          ]
        },
        {
          "output_type": "stream",
          "name": "stdout",
          "text": [
            "Epoch 1/20, Supervised Loss: 1.3028, Unsupervised Loss: 1.2983, Total Loss: 1.4327\n"
          ]
        },
        {
          "output_type": "stream",
          "name": "stderr",
          "text": [
            "Epoch 2/20: 100%|██████████| 64/64 [00:07<00:00,  8.37it/s]\n"
          ]
        },
        {
          "output_type": "stream",
          "name": "stdout",
          "text": [
            "Epoch 2/20, Supervised Loss: 1.2934, Unsupervised Loss: 1.2895, Total Loss: 1.4223\n"
          ]
        },
        {
          "output_type": "stream",
          "name": "stderr",
          "text": [
            "Epoch 3/20: 100%|██████████| 64/64 [00:03<00:00, 21.33it/s]\n"
          ]
        },
        {
          "output_type": "stream",
          "name": "stdout",
          "text": [
            "Epoch 3/20, Supervised Loss: 1.2869, Unsupervised Loss: 1.2914, Total Loss: 1.4161\n"
          ]
        },
        {
          "output_type": "stream",
          "name": "stderr",
          "text": [
            "Epoch 4/20: 100%|██████████| 64/64 [00:02<00:00, 21.41it/s]\n"
          ]
        },
        {
          "output_type": "stream",
          "name": "stdout",
          "text": [
            "Epoch 4/20, Supervised Loss: 1.2822, Unsupervised Loss: 1.2833, Total Loss: 1.4105\n"
          ]
        },
        {
          "output_type": "stream",
          "name": "stderr",
          "text": [
            "Epoch 5/20: 100%|██████████| 64/64 [00:03<00:00, 21.27it/s]\n"
          ]
        },
        {
          "output_type": "stream",
          "name": "stdout",
          "text": [
            "Epoch 5/20, Supervised Loss: 1.2782, Unsupervised Loss: 1.2841, Total Loss: 1.4066\n"
          ]
        },
        {
          "output_type": "stream",
          "name": "stderr",
          "text": [
            "Epoch 6/20: 100%|██████████| 64/64 [00:03<00:00, 21.32it/s]\n"
          ]
        },
        {
          "output_type": "stream",
          "name": "stdout",
          "text": [
            "Epoch 6/20, Supervised Loss: 1.2748, Unsupervised Loss: 1.2791, Total Loss: 1.4028\n"
          ]
        },
        {
          "output_type": "stream",
          "name": "stderr",
          "text": [
            "Epoch 7/20: 100%|██████████| 64/64 [00:02<00:00, 21.49it/s]\n"
          ]
        },
        {
          "output_type": "stream",
          "name": "stdout",
          "text": [
            "Epoch 7/20, Supervised Loss: 1.2720, Unsupervised Loss: 1.2768, Total Loss: 1.3997\n"
          ]
        },
        {
          "output_type": "stream",
          "name": "stderr",
          "text": [
            "Epoch 8/20: 100%|██████████| 64/64 [00:02<00:00, 21.74it/s]\n"
          ]
        },
        {
          "output_type": "stream",
          "name": "stdout",
          "text": [
            "Epoch 8/20, Supervised Loss: 1.2694, Unsupervised Loss: 1.2728, Total Loss: 1.3966\n"
          ]
        },
        {
          "output_type": "stream",
          "name": "stderr",
          "text": [
            "Epoch 9/20: 100%|██████████| 64/64 [00:02<00:00, 21.68it/s]\n"
          ]
        },
        {
          "output_type": "stream",
          "name": "stdout",
          "text": [
            "Epoch 9/20, Supervised Loss: 1.2673, Unsupervised Loss: 1.2714, Total Loss: 1.3944\n"
          ]
        },
        {
          "output_type": "stream",
          "name": "stderr",
          "text": [
            "Epoch 10/20: 100%|██████████| 64/64 [00:02<00:00, 21.79it/s]\n"
          ]
        },
        {
          "output_type": "stream",
          "name": "stdout",
          "text": [
            "Epoch 10/20, Supervised Loss: 1.2652, Unsupervised Loss: 1.2701, Total Loss: 1.3922\n"
          ]
        },
        {
          "output_type": "stream",
          "name": "stderr",
          "text": [
            "Epoch 11/20: 100%|██████████| 64/64 [00:02<00:00, 21.62it/s]\n"
          ]
        },
        {
          "output_type": "stream",
          "name": "stdout",
          "text": [
            "Epoch 11/20, Supervised Loss: 1.2634, Unsupervised Loss: 1.2659, Total Loss: 1.3900\n"
          ]
        },
        {
          "output_type": "stream",
          "name": "stderr",
          "text": [
            "Epoch 12/20: 100%|██████████| 64/64 [00:02<00:00, 21.59it/s]\n"
          ]
        },
        {
          "output_type": "stream",
          "name": "stdout",
          "text": [
            "Epoch 12/20, Supervised Loss: 1.2618, Unsupervised Loss: 1.2658, Total Loss: 1.3884\n"
          ]
        },
        {
          "output_type": "stream",
          "name": "stderr",
          "text": [
            "Epoch 13/20: 100%|██████████| 64/64 [00:03<00:00, 21.28it/s]\n"
          ]
        },
        {
          "output_type": "stream",
          "name": "stdout",
          "text": [
            "Epoch 13/20, Supervised Loss: 1.2603, Unsupervised Loss: 1.2637, Total Loss: 1.3867\n"
          ]
        },
        {
          "output_type": "stream",
          "name": "stderr",
          "text": [
            "Epoch 14/20: 100%|██████████| 64/64 [00:03<00:00, 21.05it/s]\n"
          ]
        },
        {
          "output_type": "stream",
          "name": "stdout",
          "text": [
            "Epoch 14/20, Supervised Loss: 1.2590, Unsupervised Loss: 1.2635, Total Loss: 1.3853\n"
          ]
        },
        {
          "output_type": "stream",
          "name": "stderr",
          "text": [
            "Epoch 15/20: 100%|██████████| 64/64 [00:02<00:00, 21.58it/s]\n"
          ]
        },
        {
          "output_type": "stream",
          "name": "stdout",
          "text": [
            "Epoch 15/20, Supervised Loss: 1.2576, Unsupervised Loss: 1.2605, Total Loss: 1.3837\n"
          ]
        },
        {
          "output_type": "stream",
          "name": "stderr",
          "text": [
            "Epoch 16/20: 100%|██████████| 64/64 [00:03<00:00, 21.24it/s]\n"
          ]
        },
        {
          "output_type": "stream",
          "name": "stdout",
          "text": [
            "Epoch 16/20, Supervised Loss: 1.2565, Unsupervised Loss: 1.2598, Total Loss: 1.3825\n"
          ]
        },
        {
          "output_type": "stream",
          "name": "stderr",
          "text": [
            "Epoch 17/20: 100%|██████████| 64/64 [00:03<00:00, 21.13it/s]\n"
          ]
        },
        {
          "output_type": "stream",
          "name": "stdout",
          "text": [
            "Epoch 17/20, Supervised Loss: 1.2553, Unsupervised Loss: 1.2580, Total Loss: 1.3812\n"
          ]
        },
        {
          "output_type": "stream",
          "name": "stderr",
          "text": [
            "Epoch 18/20: 100%|██████████| 64/64 [00:03<00:00, 21.02it/s]\n"
          ]
        },
        {
          "output_type": "stream",
          "name": "stdout",
          "text": [
            "Epoch 18/20, Supervised Loss: 1.2542, Unsupervised Loss: 1.2578, Total Loss: 1.3799\n"
          ]
        },
        {
          "output_type": "stream",
          "name": "stderr",
          "text": [
            "Epoch 19/20: 100%|██████████| 64/64 [00:03<00:00, 21.01it/s]\n"
          ]
        },
        {
          "output_type": "stream",
          "name": "stdout",
          "text": [
            "Epoch 19/20, Supervised Loss: 1.2532, Unsupervised Loss: 1.2558, Total Loss: 1.3788\n"
          ]
        },
        {
          "output_type": "stream",
          "name": "stderr",
          "text": [
            "Epoch 20/20: 100%|██████████| 64/64 [00:03<00:00, 21.07it/s]"
          ]
        },
        {
          "output_type": "stream",
          "name": "stdout",
          "text": [
            "Epoch 20/20, Supervised Loss: 1.2523, Unsupervised Loss: 1.2565, Total Loss: 1.3779\n",
            "Prompt learning training complete.\n"
          ]
        },
        {
          "output_type": "stream",
          "name": "stderr",
          "text": [
            "\n"
          ]
        }
      ]
    },
    {
      "cell_type": "markdown",
      "metadata": {
        "id": "9ba22207"
      },
      "source": [
        "**Evaluate prompt-learned model**\n",
        "\n"
      ]
    },
    {
      "cell_type": "code",
      "metadata": {
        "colab": {
          "base_uri": "https://localhost:8080/"
        },
        "id": "cb50c746",
        "outputId": "077779c3-b109-451b-c154-b6c11b274db1"
      },
      "source": [
        "model.eval()\n",
        "\n",
        "correct_predictions = 0\n",
        "total_images = 0\n",
        "\n",
        "print(f\"Evaluating model with learned prompts on target domain: {target_domain}\")\n",
        "\n",
        "with torch.no_grad():\n",
        "    for images, labels in tqdm.tqdm(target_data_loader):\n",
        "        images = images.to(device)\n",
        "        labels = labels.to(device)\n",
        "        image_features_dtype = model.encode_image(images[:1]).dtype\n",
        "        text_features_with_learned_prompt = get_text_features(class_names, learnable_prompt, model, device, image_features_dtype)\n",
        "        target_image_features = model.encode_image(images)\n",
        "        target_image_features = target_image_features / target_image_features.norm(dim=-1, keepdim=True)\n",
        "        similarity = (temperature * target_image_features @ text_features_with_learned_prompt.T).softmax(dim=-1)\n",
        "        _, predicted = torch.max(similarity.data, 1)\n",
        "        total_images += labels.size(0)\n",
        "        correct_predictions += (predicted == labels).sum().item()\n",
        "\n",
        "prompt_learned_accuracy = correct_predictions / total_images\n",
        "print(f\"Prompt-learned accuracy on {target_domain} domain: {prompt_learned_accuracy:.4f}\")\n",
        "print(f\"Zero-shot accuracy on {target_domain} domain: {zero_shot_accuracies[target_domain]:.4f}\")\n",
        "print(f\"Fine-tuned accuracy on {target_domain} domain: {fine_tuned_accuracy:.4f}\")\n"
      ],
      "execution_count": null,
      "outputs": [
        {
          "output_type": "stream",
          "name": "stdout",
          "text": [
            "Evaluating model with learned prompts on target domain: sketch\n"
          ]
        },
        {
          "output_type": "stream",
          "name": "stderr",
          "text": [
            "100%|██████████| 123/123 [00:13<00:00,  8.90it/s]"
          ]
        },
        {
          "output_type": "stream",
          "name": "stdout",
          "text": [
            "Prompt-learned accuracy on sketch domain: 0.8638\n",
            "Zero-shot accuracy on sketch domain: 0.8465\n",
            "Fine-tuned accuracy on sketch domain: 0.8559\n"
          ]
        },
        {
          "output_type": "stream",
          "name": "stderr",
          "text": [
            "\n"
          ]
        }
      ]
    },
    {
      "cell_type": "markdown",
      "metadata": {
        "id": "e3a6353a"
      },
      "source": [
        "## Summary:\n",
        "\n",
        "### Data Analysis Key Findings\n",
        "\n",
        "*   The source domain was set to 'art\\_painting' and the target domain to 'sketch'.\n",
        "*   Data loaders were successfully created for both the source and target domains.\n",
        "*   The pre-trained CLIP model (\"ViT-B/32\") was loaded, and its parameters were frozen to prepare it for prompt learning.\n",
        "*   A learnable prompt vector of shape `torch.Size([16, 512])` was initialized and moved to the appropriate device.\n",
        "*   The supervised loss function (`torch.nn.CrossEntropyLoss`) and the Adam optimizer for the learnable prompt were defined.\n",
        "*   A training loop was implemented that iterates through epochs, processes source and target data, calculates supervised and unsupervised losses (using pseudo-labeling for unsupervised), and updates the learnable prompts via backpropagation.\n",
        "*   During training implementation, issues related to dtype mismatch between image and text features and inplace operations on tensors requiring gradients were identified and resolved.\n",
        "*   The prompt-learned model achieved an accuracy of 0.8613 on the target 'sketch' domain.\n",
        "*   This prompt-learned accuracy (0.8613) was higher than both the zero-shot accuracy (0.8465) and the fine-tuned accuracy (0.8587) on the same target domain.\n",
        "\n",
        "### Insights or Next Steps\n",
        "\n",
        "*   Prompt learning demonstrated superior performance compared to zero-shot and fine-tuned approaches for domain adaptation from 'art\\_painting' to 'sketch' in this experiment, suggesting its effectiveness in adapting CLIP to new visual styles without extensive model modification.\n",
        "*   Further research could explore different unsupervised loss functions for target domain adaptation within the prompt learning framework, evaluate the impact of prompt length and initialization strategies, or investigate conditional prompt learning (like CoCoOp) for improved adaptability across diverse target domains.\n"
      ]
    },
    {
      "cell_type": "code",
      "metadata": {
        "colab": {
          "base_uri": "https://localhost:8080/",
          "height": 487
        },
        "id": "2ac1d854",
        "outputId": "c8bf424b-6e5c-4e36-ccd9-af4322fd1853"
      },
      "source": [
        "import matplotlib.pyplot as plt\n",
        "\n",
        "# 1. Identify the key results from Task 2 related to prompt learning performance.\n",
        "# Access the variables prompt_learned_accuracy, zero_shot_accuracies['sketch'], and fine_tuned_accuracy.\n",
        "prompt_learned_acc = prompt_learned_accuracy\n",
        "zero_shot_sketch_acc = zero_shot_accuracies['sketch']\n",
        "fine_tuned_sketch_acc = fine_tuned_accuracy\n",
        "\n",
        "# 2. Suggest appropriate visualizations and prepare data for a bar chart.\n",
        "accuracy_labels = ['Zero-Shot', 'Fine-Tuned', 'Prompt-Learned']\n",
        "accuracy_values = [zero_shot_sketch_acc, fine_tuned_sketch_acc, prompt_learned_acc]\n",
        "\n",
        "# 3. Generate the code to create the suggested visualization using matplotlib.\n",
        "plt.figure(figsize=(7, 5))\n",
        "plt.bar(accuracy_labels, accuracy_values, color=['blue', 'orange', 'green'])\n",
        "plt.xlabel('Method')\n",
        "plt.ylabel('Accuracy')\n",
        "plt.title(f'Performance Comparison on PACS {target_domain} Domain')\n",
        "plt.ylim(0, 1) # Set y-axis limit for better comparison\n",
        "plt.grid(axis='y', linestyle='--')\n",
        "plt.show()"
      ],
      "execution_count": null,
      "outputs": [
        {
          "output_type": "display_data",
          "data": {
            "text/plain": [
              "<Figure size 700x500 with 1 Axes>"
            ],
            "image/png": "[encoded data removed]"
          },
          "metadata": {}
        }
      ]
    },
    {
      "cell_type": "markdown",
      "metadata": {
        "id": "bc9698e4"
      },
      "source": [
        "## Gradient Conflict and Alignment\n"
      ]
    },
    {
      "cell_type": "code",
      "metadata": {
        "colab": {
          "base_uri": "https://localhost:8080/"
        },
        "id": "bbee7daf",
        "outputId": "b12345b1-2156-4e70-f032-fcb8dfbb8886"
      },
      "source": [
        "domain1_name = 'art_painting'\n",
        "domain2_name = 'sketch'\n",
        "\n",
        "domain1_data_loader = data_loaders[domain1_name]\n",
        "domain2_data_loader = data_loaders[domain2_name]\n",
        "\n",
        "print(f\"Domain 1 for gradient analysis: {domain1_name}\")\n",
        "print(f\"Domain 2 for gradient analysis: {domain2_name}\")\n",
        "print(f\"Domain 1 data loader: {domain1_data_loader}\")\n",
        "print(f\"Domain 2 data loader: {domain2_data_loader}\")"
      ],
      "execution_count": null,
      "outputs": [
        {
          "output_type": "stream",
          "name": "stdout",
          "text": [
            "Domain 1 for gradient analysis: art_painting\n",
            "Domain 2 for gradient analysis: sketch\n",
            "Domain 1 data loader: <torch.utils.data.dataloader.DataLoader object at 0x7e940ceb2d20>\n",
            "Domain 2 data loader: <torch.utils.data.dataloader.DataLoader object at 0x7e940bf78ec0>\n"
          ]
        }
      ]
    },
    {
      "cell_type": "code",
      "metadata": {
        "colab": {
          "base_uri": "https://localhost:8080/"
        },
        "id": "47ea0dc3",
        "outputId": "58d6b714-68c7-447e-c233-cce8bd7c1f99"
      },
      "source": [
        "import torch.nn as nn\n",
        "\n",
        "device = \"cuda\" if torch.cuda.is_available() else \"cpu\"\n",
        "\n",
        "for param in model.parameters():\n",
        "    param.requires_grad_(False)\n",
        "\n",
        "prompt_length = 16\n",
        "embedding_dimension = model.text_projection.shape[1] if hasattr(model, 'text_projection') and model.text_projection is not None else model.ln_final.normalized_shape[0]\n",
        "learnable_prompt = nn.Parameter(torch.randn(prompt_length, embedding_dimension, device=device))\n",
        "print(f\"CLIP model loaded on {device} and parameters frozen.\")\n",
        "print(f\"Learnable prompt initialized with shape: {learnable_prompt.shape}\")"
      ],
      "execution_count": null,
      "outputs": [
        {
          "output_type": "stream",
          "name": "stdout",
          "text": [
            "CLIP model loaded on cuda and parameters frozen.\n",
            "Learnable prompt initialized with shape: torch.Size([16, 512])\n"
          ]
        }
      ]
    },
    {
      "cell_type": "code",
      "metadata": {
        "colab": {
          "base_uri": "https://localhost:8080/"
        },
        "id": "a68bb4a1",
        "outputId": "8d3e788c-1605-4b7c-f442-76979555f0ae"
      },
      "source": [
        "import torch.nn as nn\n",
        "supervised_loss_function = torch.nn.CrossEntropyLoss()\n",
        "optimizer = torch.optim.Adam([learnable_prompt], lr=1e-3)\n",
        "unsupervised_loss_function = torch.nn.CrossEntropyLoss()\n",
        "print(\"Loss functions and optimizer defined for gradient analysis.\")"
      ],
      "execution_count": null,
      "outputs": [
        {
          "output_type": "stream",
          "name": "stdout",
          "text": [
            "Loss functions and optimizer defined for gradient analysis.\n"
          ]
        }
      ]
    },
    {
      "cell_type": "code",
      "metadata": {
        "colab": {
          "base_uri": "https://localhost:8080/"
        },
        "id": "e6cc9304",
        "outputId": "3b160e3f-ea55-434d-a1d2-000c1954ee90"
      },
      "source": [
        "import itertools\n",
        "import torch.nn.functional as F\n",
        "import tqdm\n",
        "domain1_iter = itertools.cycle(domain1_data_loader)\n",
        "domain2_iter = itertools.cycle(domain2_data_loader)\n",
        "gradient_history = {}\n",
        "num_gradient_steps = 20\n",
        "temperature = 100.0\n",
        "\n",
        "print(f\"Starting gradient capture for {num_gradient_steps} steps...\")\n",
        "\n",
        "for step in tqdm.tqdm(range(num_gradient_steps), desc=\"Gradient Capture Steps\"):\n",
        "    source_images, source_labels = next(domain1_iter)\n",
        "    source_images = source_images.to(device)\n",
        "    source_labels = source_labels.to(device)\n",
        "    target_images, _ = next(domain2_iter)\n",
        "    target_images = target_images.to(device)\n",
        "\n",
        "    learnable_prompt.grad = None\n",
        "\n",
        "    image_features_dtype = model.encode_image(source_images[:1]).dtype\n",
        "\n",
        "    text_features_with_prompt = get_text_features(class_names, learnable_prompt, model, device, image_features_dtype)\n",
        "\n",
        "    with torch.no_grad():\n",
        "         source_image_features = model.encode_image(source_images)\n",
        "         source_image_features = source_image_features / source_image_features.norm(dim=-1, keepdim=True)\n",
        "\n",
        "    source_similarity = (temperature * source_image_features @ text_features_with_prompt.T)\n",
        "    loss1 = supervised_loss_function(source_similarity, source_labels)\n",
        "\n",
        "    with torch.no_grad():\n",
        "         target_image_features_no_grad = model.encode_image(target_images)\n",
        "         target_image_features_no_grad = target_image_features_no_grad / target_image_features_no_grad.norm(dim=-1, keepdim=True) # Out-of-place normalization\n",
        "         target_similarity_no_grad = (temperature * target_image_features_no_grad @ text_features_with_prompt.T).softmax(dim=-1)\n",
        "         pseudo_labels = torch.argmax(target_similarity_no_grad, dim=1)\n",
        "\n",
        "    target_image_features = model.encode_image(target_images)\n",
        "    target_image_features = target_image_features / target_image_features.norm(dim=-1, keepdim=True)\n",
        "\n",
        "    target_similarity_for_loss = (temperature * target_image_features @ text_features_with_prompt.T)\n",
        "    loss2 = unsupervised_loss_function(target_similarity_for_loss, pseudo_labels)\n",
        "\n",
        "    loss1.backward(retain_graph=True)\n",
        "    grad1 = learnable_prompt.grad.clone()\n",
        "    learnable_prompt.grad = None\n",
        "    loss2.backward()\n",
        "    grad2 = learnable_prompt.grad.clone()\n",
        "    gradient_history[step] = {\n",
        "        f'{domain1_name}_grad': grad1,\n",
        "        f'{domain2_name}_grad': grad2\n",
        "    }\n",
        "\n",
        "print(\"Gradient capture complete.\")"
      ],
      "execution_count": null,
      "outputs": [
        {
          "output_type": "stream",
          "name": "stdout",
          "text": [
            "Starting gradient capture for 20 steps...\n"
          ]
        },
        {
          "output_type": "stream",
          "name": "stderr",
          "text": [
            "Gradient Capture Steps: 100%|██████████| 20/20 [00:04<00:00,  4.77it/s]"
          ]
        },
        {
          "output_type": "stream",
          "name": "stdout",
          "text": [
            "Gradient capture complete.\n"
          ]
        },
        {
          "output_type": "stream",
          "name": "stderr",
          "text": [
            "\n"
          ]
        }
      ]
    },
    {
      "cell_type": "code",
      "metadata": {
        "colab": {
          "base_uri": "https://localhost:8080/"
        },
        "id": "a_IT25S-NZoY",
        "outputId": "57163e48-6d11-4857-8d0f-fa7c9577fce1"
      },
      "source": [
        "import itertools\n",
        "import torch.nn.functional as F\n",
        "import tqdm\n",
        "\n",
        "domain1_iter = itertools.cycle(domain1_data_loader)\n",
        "domain2_iter = itertools.cycle(domain2_data_loader)\n",
        "gradient_history = {}\n",
        "\n",
        "num_gradient_steps = 20\n",
        "temperature = 100.0\n",
        "\n",
        "print(f\"Starting gradient capture for {num_gradient_steps} steps...\")\n",
        "\n",
        "for step in tqdm.tqdm(range(num_gradient_steps), desc=\"Gradient Capture Steps\"):\n",
        "    source_images, source_labels = next(domain1_iter)\n",
        "    source_images = source_images.to(device)\n",
        "    source_labels = source_labels.to(device)\n",
        "    target_images, _ = next(domain2_iter)\n",
        "    target_images = target_images.to(device)\n",
        "\n",
        "    learnable_prompt.grad = None\n",
        "    image_features_dtype = model.encode_image(source_images[:1]).dtype\n",
        "    text_features_with_prompt = get_text_features(class_names, learnable_prompt, model, device, image_features_dtype)\n",
        "    with torch.no_grad():\n",
        "         source_image_features = model.encode_image(source_images)\n",
        "         source_image_features = source_image_features / source_image_features.norm(dim=-1, keepdim=True)\n",
        "\n",
        "    source_similarity = (temperature * source_image_features @ text_features_with_prompt.T)\n",
        "    loss1 = supervised_loss_function(source_similarity, source_labels)\n",
        "\n",
        "    with torch.no_grad():\n",
        "         target_image_features = model.encode_image(target_images)\n",
        "         target_image_features = target_image_features / target_image_features.norm(dim=-1, keepdim=True)\n",
        "\n",
        "         target_similarity = (temperature * target_image_features @ text_features_with_prompt.T).softmax(dim=-1)\n",
        "         pseudo_labels = torch.argmax(target_similarity, dim=1)\n",
        "\n",
        "    target_image_features_for_loss = model.encode_image(target_images)\n",
        "    target_image_features_for_loss = target_image_features_for_loss / target_image_features_for_loss.norm(dim=-1, keepdim=True) # Out-of-place normalization\n",
        "\n",
        "    target_similarity_for_loss = (temperature * target_image_features_for_loss @ text_features_with_prompt.T)\n",
        "    loss2 = unsupervised_loss_function(target_similarity_for_loss, pseudo_labels)\n",
        "    loss1.backward(retain_graph=True)\n",
        "    grad1 = learnable_prompt.grad.clone()\n",
        "    learnable_prompt.grad = None\n",
        "    loss2.backward()\n",
        "\n",
        "    grad2 = learnable_prompt.grad.clone()\n",
        "\n",
        "    gradient_history[step] = {\n",
        "        f'{domain1_name}_grad': grad1,\n",
        "        f'{domain2_name}_grad': grad2\n",
        "    }\n",
        "\n",
        "print(\"Gradient capture complete.\")"
      ],
      "execution_count": null,
      "outputs": [
        {
          "output_type": "stream",
          "name": "stdout",
          "text": [
            "Starting gradient capture for 20 steps...\n"
          ]
        },
        {
          "output_type": "stream",
          "name": "stderr",
          "text": [
            "Gradient Capture Steps: 100%|██████████| 20/20 [00:04<00:00,  4.62it/s]"
          ]
        },
        {
          "output_type": "stream",
          "name": "stdout",
          "text": [
            "Gradient capture complete.\n"
          ]
        },
        {
          "output_type": "stream",
          "name": "stderr",
          "text": [
            "\n"
          ]
        }
      ]
    },
    {
      "cell_type": "code",
      "metadata": {
        "colab": {
          "base_uri": "https://localhost:8080/"
        },
        "id": "7fcaa9ec",
        "outputId": "6cff94e7-17f9-435a-f6e3-5543aabac619"
      },
      "source": [
        "import torch.nn.functional as F\n",
        "\n",
        "gradient_similarity = {}\n",
        "\n",
        "print(\"Calculating gradient similarities...\")\n",
        "for step, gradients in tqdm.tqdm(gradient_history.items(), desc=\"Calculating Similarities\"):\n",
        "    domain1_grad = gradients[f'{domain1_name}_grad']\n",
        "    domain2_grad = gradients[f'{domain2_name}_grad']\n",
        "    domain1_grad_flat = domain1_grad.flatten()\n",
        "    domain2_grad_flat = domain2_grad.flatten()\n",
        "    similarity = F.cosine_similarity(domain1_grad_flat.unsqueeze(0), domain2_grad_flat.unsqueeze(0))\n",
        "    similarity_value = similarity.item()\n",
        "    gradient_similarity[step] = similarity_value\n",
        "\n",
        "print(\"\\nCosine similarity between domain gradients at each step:\")\n",
        "for step, similarity in gradient_similarity.items():\n",
        "    print(f\"Step {step}: {similarity:.4f}\")\n"
      ],
      "execution_count": null,
      "outputs": [
        {
          "output_type": "stream",
          "name": "stdout",
          "text": [
            "Calculating gradient similarities...\n"
          ]
        },
        {
          "output_type": "stream",
          "name": "stderr",
          "text": [
            "Calculating Similarities: 100%|██████████| 20/20 [00:00<00:00, 684.63it/s]"
          ]
        },
        {
          "output_type": "stream",
          "name": "stdout",
          "text": [
            "\n",
            "Cosine similarity between domain gradients at each step:\n",
            "Step 0: 0.5944\n",
            "Step 1: 0.0501\n",
            "Step 2: 0.2476\n",
            "Step 3: -0.1475\n",
            "Step 4: -0.1009\n",
            "Step 5: 0.2759\n",
            "Step 6: -0.0422\n",
            "Step 7: 0.7683\n",
            "Step 8: 0.2677\n",
            "Step 9: -0.6894\n",
            "Step 10: -0.1108\n",
            "Step 11: 0.3634\n",
            "Step 12: 0.1277\n",
            "Step 13: 0.6262\n",
            "Step 14: -0.1427\n",
            "Step 15: 0.4028\n",
            "Step 16: 0.1398\n",
            "Step 17: 0.2937\n",
            "Step 18: -0.1216\n",
            "Step 19: 0.0705\n"
          ]
        },
        {
          "output_type": "stream",
          "name": "stderr",
          "text": [
            "\n"
          ]
        }
      ]
    },
    {
      "cell_type": "code",
      "metadata": {
        "colab": {
          "base_uri": "https://localhost:8080/",
          "height": 564
        },
        "id": "ee26832b",
        "outputId": "4dbb3492-aa8a-4236-bcd6-a628f6ece5c6"
      },
      "source": [
        "import matplotlib.pyplot as plt\n",
        "\n",
        "steps = list(gradient_similarity.keys())\n",
        "similarity_values = list(gradient_similarity.values())\n",
        "\n",
        "plt.figure(figsize=(10, 6))\n",
        "plt.plot(steps, similarity_values, marker='o', linestyle='-')\n",
        "\n",
        "plt.xlabel('Training Step')\n",
        "plt.ylabel('Cosine Similarity')\n",
        "plt.title('Cosine Similarity of Domain Gradients Over Training Steps')\n",
        "plt.axhline(0, color='red', linestyle='--', linewidth=0.8)\n",
        "plt.grid(True, linestyle='-', alpha=0.6)\n",
        "plt.xticks(steps)\n",
        "\n",
        "plt.show()"
      ],
      "execution_count": null,
      "outputs": [
        {
          "output_type": "display_data",
          "data": {
            "text/plain": [
              "<Figure size 1000x600 with 1 Axes>"
            ],
            "image/png": "[encoded data removed]"
          },
          "metadata": {}
        }
      ]
    },
    {
      "cell_type": "markdown",
      "metadata": {
        "id": "ded9f369"
      },
      "source": [
        "## Summary:\n",
        "\n",
        "### Q&A\n",
        "\n",
        "*   **Which two domains were selected for the gradient analysis experiment?**\n",
        "    The selected domains for gradient analysis were 'art\\_painting' (source domain) and 'sketch' (target domain with pseudo-labels).\n",
        "\n",
        "*   **At which training steps were the gradients highly conflicting?**\n",
        "    Using a threshold of 0.1 for cosine similarity, the training steps showing potential high conflict were steps 0, 1, 3, 4, 5, 6, 7, 8, 11, 12, 15, 16, and 19.\n",
        "\n",
        "*   **What was the observed range of cosine similarity between domain gradients?**\n",
        "    The observed range of cosine similarity between the 'art\\_painting' and 'sketch' domain gradients across the 20 captured steps was \\[-0.7031, 0.7118].\n",
        "\n",
        "### Data Analysis Key Findings\n",
        "\n",
        "*   The cosine similarity between the gradients of the learnable prompt for the 'art\\_painting' and 'sketch' domains varied significantly across the 20 captured training steps, ranging from a minimum of -0.7031 to a maximum of 0.7118.\n",
        "*   The average cosine similarity across the 20 steps was -0.0359, indicating a general tendency towards slight conflict or near-orthogonality rather than strong alignment.\n",
        "*   13 out of the 20 captured steps (65%) exhibited a cosine similarity less than 0.1, indicating frequent and significant gradient conflict where the required updates for the two domains were often pointing in opposing directions or were nearly orthogonal.\n",
        "*   The conflict is likely driven by the substantial visual domain gap between art paintings and sketches, the challenges of optimizing a single prompt for divergent domain-specific classification tasks, the potential noise from pseudo-labels in the target domain, and the inherent difficulty of satisfying conflicting objectives simultaneously with a single shared parameter (the learnable prompt).\n",
        "\n",
        "### Insights or Next Steps\n",
        "\n",
        "*   The high frequency of conflicting gradients suggests that a standard optimization approach (like simple summation of domain losses) may struggle to find a prompt that effectively benefits both domains simultaneously, potentially hindering adaptation to the target domain or harming source performance.\n",
        "*   Implementing a gradient alignment mechanism that modifies conflicting gradients before the optimization step could potentially lead to more stable training, faster convergence, and a more robust learnable prompt that promotes domain-invariant feature learning.\n"
      ]
    },
    {
      "cell_type": "markdown",
      "metadata": {
        "id": "242cb70f"
      },
      "source": [
        "## Open-Set and Generalization Analysis"
      ]
    },
    {
      "cell_type": "code",
      "metadata": {
        "colab": {
          "base_uri": "https://localhost:8080/"
        },
        "id": "b1d09710",
        "outputId": "22a85eb2-180f-4fbb-99be-5fc5aedc0b34"
      },
      "source": [
        "import os\n",
        "from torchvision import datasets, transforms\n",
        "from torch.utils.data import DataLoader, Dataset\n",
        "from PIL import Image\n",
        "\n",
        "full_class_names = sorted(['dog', 'elephant', 'giraffe', 'guitar', 'horse', 'house', 'person'])\n",
        "print(f\"Full class names: {full_class_names}\")\n",
        "seen_classes = sorted(['dog', 'elephant', 'giraffe', 'guitar'])\n",
        "unseen_classes = sorted(['horse', 'house', 'person'])\n",
        "\n",
        "assert set(seen_classes).intersection(set(unseen_classes)) == set()\n",
        "assert set(seen_classes).union(set(unseen_classes)) == set(full_class_names)\n",
        "\n",
        "print(f\"Seen classes: {seen_classes}\")\n",
        "print(f\"Unseen classes: {unseen_classes}\")\n",
        "\n",
        "dataset_path = './pacs-dataset/kfold'\n",
        "seen_class_to_idx = {cls_name: i for i, cls_name in enumerate(seen_classes)}\n",
        "full_class_to_idx = {cls_name: i for i, cls_name in enumerate(full_class_names)}"
      ],
      "execution_count": null,
      "outputs": [
        {
          "output_type": "stream",
          "name": "stdout",
          "text": [
            "Full class names: ['dog', 'elephant', 'giraffe', 'guitar', 'horse', 'house', 'person']\n",
            "Seen classes: ['dog', 'elephant', 'giraffe', 'guitar']\n",
            "Unseen classes: ['horse', 'house', 'person']\n"
          ]
        }
      ]
    },
    {
      "cell_type": "code",
      "source": [
        "class FilteredPACS(Dataset):\n",
        "    def __init__(self, root_dir, domains, class_names_to_include, transform=None, class_to_idx_map=None):\n",
        "        self.root_dir = root_dir\n",
        "        self.domains = domains\n",
        "        self.class_names_to_include = class_names_to_include\n",
        "        self.transform = transform\n",
        "        self.class_to_idx_map = class_to_idx_map if class_to_idx_map is not None else {cls_name: i for i, cls_name in enumerate(class_names_to_include)}\n",
        "        self.samples = self._load_samples()\n",
        "\n",
        "    def _load_samples(self):\n",
        "        samples = []\n",
        "        for domain in self.domains:\n",
        "            domain_path = os.path.join(self.root_dir, domain)\n",
        "            if os.path.exists(domain_path):\n",
        "                for class_name in self.class_names_to_include:\n",
        "                    class_path = os.path.join(domain_path, class_name)\n",
        "                    if os.path.exists(class_path):\n",
        "                        for img_name in os.listdir(class_path):\n",
        "                            img_path = os.path.join(class_path, img_name)\n",
        "                            samples.append((img_path, self.class_to_idx_map[class_name], class_name))\n",
        "            else:\n",
        "                 print(f\"Warning: Domain path not found: {domain_path}\")\n",
        "        return samples\n",
        "\n",
        "    def __len__(self):\n",
        "        return len(self.samples)\n",
        "\n",
        "    def __getitem__(self, idx):\n",
        "        img_path, label_idx, class_name = self.samples[idx]\n",
        "        image = Image.open(img_path).convert('RGB')\n",
        "        if self.transform:\n",
        "            image = self.transform(image)\n",
        "        return image, label_idx, class_name"
      ],
      "metadata": {
        "id": "jeG2tQOkWTQ3"
      },
      "execution_count": null,
      "outputs": []
    },
    {
      "cell_type": "code",
      "source": [
        "training_domains = ['art_painting', 'cartoon', 'photo']\n",
        "seen_classes_dataset = FilteredPACS(\n",
        "    root_dir=dataset_path,\n",
        "    domains=training_domains,\n",
        "    class_names_to_include=seen_classes,\n",
        "    transform=preprocess,\n",
        "    class_to_idx_map=seen_class_to_idx\n",
        ")\n",
        "\n",
        "seen_classes_train_loader = DataLoader(seen_classes_dataset, batch_size=32, shuffle=True)\n",
        "\n",
        "print(f\"\\nSeen classes training dataset size: {len(seen_classes_dataset)}\")\n",
        "print(f\"Seen classes training data loader created with {len(seen_classes_train_loader)} batches.\")\n",
        "\n",
        "evaluation_domains = ['art_painting', 'cartoon', 'photo', 'sketch']\n",
        "all_classes_eval_dataset = FilteredPACS(\n",
        "    root_dir=dataset_path,\n",
        "    domains=evaluation_domains,\n",
        "    class_names_to_include=full_class_names,\n",
        "    transform=preprocess,\n",
        "    class_to_idx_map=full_class_to_idx\n",
        ")\n",
        "\n",
        "all_classes_eval_loader = DataLoader(all_classes_eval_dataset, batch_size=32, shuffle=False)\n",
        "\n",
        "print(f\"\\nAll classes evaluation dataset size: {len(all_classes_eval_dataset)}\")\n",
        "print(f\"All classes evaluation data loader created with {len(all_classes_eval_loader)} batches.\")\n",
        "\n",
        "all_class_names = full_class_names"
      ],
      "metadata": {
        "colab": {
          "base_uri": "https://localhost:8080/"
        },
        "id": "1OrEQNXhWm5z",
        "outputId": "9abf8092-ecf7-43f0-f9e3-c969f1cdef4a"
      },
      "execution_count": null,
      "outputs": [
        {
          "output_type": "stream",
          "name": "stdout",
          "text": [
            "\n",
            "Seen classes training dataset size: 3189\n",
            "Seen classes training data loader created with 100 batches.\n",
            "\n",
            "All classes evaluation dataset size: 9991\n",
            "All classes evaluation data loader created with 313 batches.\n"
          ]
        }
      ]
    },
    {
      "cell_type": "code",
      "metadata": {
        "colab": {
          "base_uri": "https://localhost:8080/"
        },
        "id": "e535777c",
        "outputId": "bfc60a8c-f0e8-4afd-8cc0-9b88056f63b6"
      },
      "source": [
        "import torch.nn as nn\n",
        "\n",
        "device = \"cuda\" if torch.cuda.is_available() else \"cpu\"\n",
        "\n",
        "for param in model.parameters():\n",
        "    param.requires_grad_(False)\n",
        "\n",
        "prompt_length = 16\n",
        "embedding_dimension = model.text_projection.shape[1] if hasattr(model, 'text_projection') and model.text_projection is not None else model.ln_final.normalized_shape[0]\n",
        "learnable_prompt = nn.Parameter(torch.randn(prompt_length, embedding_dimension, device=device))\n",
        "\n",
        "print(f\"CLIP model loaded on {device} and parameters frozen.\")\n",
        "print(f\"Learnable prompt initialized with shape: {learnable_prompt.shape}\")"
      ],
      "execution_count": null,
      "outputs": [
        {
          "output_type": "stream",
          "name": "stdout",
          "text": [
            "CLIP model loaded on cuda and parameters frozen.\n",
            "Learnable prompt initialized with shape: torch.Size([16, 512])\n"
          ]
        }
      ]
    },
    {
      "cell_type": "code",
      "metadata": {
        "colab": {
          "base_uri": "https://localhost:8080/"
        },
        "id": "2f1f31f5",
        "outputId": "c745b4c3-19d8-4ab1-df0c-d31d9318e55c"
      },
      "source": [
        "supervised_loss_function = torch.nn.CrossEntropyLoss()\n",
        "\n",
        "optimizer = torch.optim.Adam([learnable_prompt], lr=1e-3)\n",
        "\n",
        "print(\"Loss function and optimizer defined for prompt tuning.\")"
      ],
      "execution_count": null,
      "outputs": [
        {
          "output_type": "stream",
          "name": "stdout",
          "text": [
            "Loss function and optimizer defined for prompt tuning.\n"
          ]
        }
      ]
    },
    {
      "cell_type": "code",
      "metadata": {
        "colab": {
          "base_uri": "https://localhost:8080/"
        },
        "id": "6dd244d8",
        "outputId": "9e0a7fad-da4b-4a86-dff4-706c6f0c3155"
      },
      "source": [
        "num_tuning_epochs = 10\n",
        "\n",
        "temperature = 100.0\n",
        "\n",
        "def get_text_features_with_prompt(class_names, learnable_prompt, model, device, dtype):\n",
        "    class_name_tokens = clip.tokenize(class_names).to(device)\n",
        "    with torch.no_grad():\n",
        "        class_name_features = model.encode_text(class_name_tokens).to(dtype)\n",
        "\n",
        "    averaged_prompt_feature = learnable_prompt.mean(dim=0).unsqueeze(0).to(dtype)\n",
        "    averaged_prompt_feature_expanded = averaged_prompt_feature.expand(len(class_names), -1)\n",
        "    combined_features = class_name_features + averaged_prompt_feature_expanded\n",
        "    combined_features = combined_features / combined_features.norm(dim=-1, keepdim=True)\n",
        "\n",
        "    return combined_features\n",
        "\n",
        "\n",
        "print(\"Starting prompt tuning training on seen classes...\")\n",
        "\n",
        "model.train()\n",
        "learnable_prompt.requires_grad_(True)\n",
        "\n",
        "for epoch in range(num_tuning_epochs):\n",
        "    running_loss = 0.0\n",
        "    num_batches = len(seen_classes_train_loader)\n",
        "\n",
        "    for images, labels_idx, _ in tqdm.tqdm(seen_classes_train_loader, desc=f\"Tuning Epoch {epoch+1}/{num_tuning_epochs}\"):\n",
        "        images = images.to(device)\n",
        "        labels_idx = labels_idx.to(device)\n",
        "        optimizer.zero_grad()\n",
        "        image_features_dtype = model.encode_image(images[:1]).dtype\n",
        "        text_features_with_prompt = get_text_features_with_prompt(seen_classes, learnable_prompt, model, device, image_features_dtype)\n",
        "        with torch.no_grad():\n",
        "             image_features = model.encode_image(images)\n",
        "             image_features = image_features / image_features.norm(dim=-1, keepdim=True)\n",
        "\n",
        "        similarity = (temperature * image_features @ text_features_with_prompt.T).softmax(dim=-1)\n",
        "        loss = supervised_loss_function(similarity, labels_idx)\n",
        "        running_loss += loss.item()\n",
        "        loss.backward()\n",
        "        optimizer.step()\n",
        "\n",
        "    print(f\"Tuning Epoch {epoch+1}/{num_tuning_epochs}, Loss: {running_loss/num_batches:.4f}\")\n",
        "\n",
        "print(\"Prompt tuning training complete.\")"
      ],
      "execution_count": null,
      "outputs": [
        {
          "output_type": "stream",
          "name": "stdout",
          "text": [
            "Starting prompt tuning training on seen classes...\n"
          ]
        },
        {
          "output_type": "stream",
          "name": "stderr",
          "text": [
            "Tuning Epoch 1/10: 100%|██████████| 100/100 [00:11<00:00,  8.89it/s]\n"
          ]
        },
        {
          "output_type": "stream",
          "name": "stdout",
          "text": [
            "Tuning Epoch 1/10, Loss: 0.7672\n"
          ]
        },
        {
          "output_type": "stream",
          "name": "stderr",
          "text": [
            "Tuning Epoch 2/10: 100%|██████████| 100/100 [00:11<00:00,  8.90it/s]\n"
          ]
        },
        {
          "output_type": "stream",
          "name": "stdout",
          "text": [
            "Tuning Epoch 2/10, Loss: 0.7656\n"
          ]
        },
        {
          "output_type": "stream",
          "name": "stderr",
          "text": [
            "Tuning Epoch 3/10: 100%|██████████| 100/100 [00:11<00:00,  8.94it/s]\n"
          ]
        },
        {
          "output_type": "stream",
          "name": "stdout",
          "text": [
            "Tuning Epoch 3/10, Loss: 0.7649\n"
          ]
        },
        {
          "output_type": "stream",
          "name": "stderr",
          "text": [
            "Tuning Epoch 4/10: 100%|██████████| 100/100 [00:11<00:00,  8.92it/s]\n"
          ]
        },
        {
          "output_type": "stream",
          "name": "stdout",
          "text": [
            "Tuning Epoch 4/10, Loss: 0.7640\n"
          ]
        },
        {
          "output_type": "stream",
          "name": "stderr",
          "text": [
            "Tuning Epoch 5/10: 100%|██████████| 100/100 [00:11<00:00,  8.92it/s]\n"
          ]
        },
        {
          "output_type": "stream",
          "name": "stdout",
          "text": [
            "Tuning Epoch 5/10, Loss: 0.7635\n"
          ]
        },
        {
          "output_type": "stream",
          "name": "stderr",
          "text": [
            "Tuning Epoch 6/10: 100%|██████████| 100/100 [00:11<00:00,  8.90it/s]\n"
          ]
        },
        {
          "output_type": "stream",
          "name": "stdout",
          "text": [
            "Tuning Epoch 6/10, Loss: 0.7627\n"
          ]
        },
        {
          "output_type": "stream",
          "name": "stderr",
          "text": [
            "Tuning Epoch 7/10: 100%|██████████| 100/100 [00:11<00:00,  8.97it/s]\n"
          ]
        },
        {
          "output_type": "stream",
          "name": "stdout",
          "text": [
            "Tuning Epoch 7/10, Loss: 0.7623\n"
          ]
        },
        {
          "output_type": "stream",
          "name": "stderr",
          "text": [
            "Tuning Epoch 8/10: 100%|██████████| 100/100 [00:11<00:00,  8.89it/s]\n"
          ]
        },
        {
          "output_type": "stream",
          "name": "stdout",
          "text": [
            "Tuning Epoch 8/10, Loss: 0.7619\n"
          ]
        },
        {
          "output_type": "stream",
          "name": "stderr",
          "text": [
            "Tuning Epoch 9/10: 100%|██████████| 100/100 [00:11<00:00,  8.87it/s]\n"
          ]
        },
        {
          "output_type": "stream",
          "name": "stdout",
          "text": [
            "Tuning Epoch 9/10, Loss: 0.7614\n"
          ]
        },
        {
          "output_type": "stream",
          "name": "stderr",
          "text": [
            "Tuning Epoch 10/10: 100%|██████████| 100/100 [00:11<00:00,  8.82it/s]"
          ]
        },
        {
          "output_type": "stream",
          "name": "stdout",
          "text": [
            "Tuning Epoch 10/10, Loss: 0.7610\n",
            "Prompt tuning training complete.\n"
          ]
        },
        {
          "output_type": "stream",
          "name": "stderr",
          "text": [
            "\n"
          ]
        }
      ]
    },
    {
      "cell_type": "code",
      "metadata": {
        "colab": {
          "base_uri": "https://localhost:8080/"
        },
        "id": "3cE4BfGhPAAA",
        "outputId": "d9f3109a-d6fc-4318-f853-04e50d42397a"
      },
      "source": [
        "print(\"\\nEvaluating prompt-tuned model on all classes...\")\n",
        "model.eval()\n",
        "learnable_prompt.requires_grad_(False)\n",
        "\n",
        "prompt_tuned_results = {\n",
        "    'seen_correct': 0,\n",
        "    'seen_total': 0,\n",
        "    'unseen_correct': 0,\n",
        "    'unseen_total': 0\n",
        "}\n",
        "\n",
        "image_features_dtype = model.encode_image(torch.randn(1, 3, 224, 224).to(device)).dtype\n",
        "text_features_with_learned_prompt_all_classes = get_text_features_with_prompt(all_class_names, learnable_prompt, model, device, image_features_dtype)\n",
        "\n",
        "\n",
        "with torch.no_grad():\n",
        "    for images, labels_idx, class_names_batch in tqdm.tqdm(all_classes_eval_loader, desc=\"Evaluating Prompt-Tuned\"):\n",
        "        images = images.to(device)\n",
        "        labels_idx = labels_idx.to(device)\n",
        "\n",
        "        image_features = model.encode_image(images)\n",
        "        image_features = image_features / image_features.norm(dim=-1, keepdim=True)\n",
        "\n",
        "        similarity = (temperature * image_features @ text_features_with_learned_prompt_all_classes.T).softmax(dim=-1)\n",
        "\n",
        "        _, predicted_idx = torch.max(similarity.data, 1)\n",
        "\n",
        "        for i in range(images.size(0)):\n",
        "            true_class_name = all_class_names[labels_idx[i].item()]\n",
        "            predicted_class_name = all_class_names[predicted_idx[i].item()]\n",
        "\n",
        "            if true_class_name in seen_classes:\n",
        "                prompt_tuned_results['seen_total'] += 1\n",
        "                if predicted_class_name == true_class_name:\n",
        "                    prompt_tuned_results['seen_correct'] += 1\n",
        "            elif true_class_name in unseen_classes:\n",
        "                prompt_tuned_results['unseen_total'] += 1\n",
        "                if predicted_class_name == true_class_name:\n",
        "                    prompt_tuned_results['unseen_correct'] += 1\n",
        "\n",
        "prompt_tuned_seen_accuracy = prompt_tuned_results['seen_correct'] / prompt_tuned_results['seen_total'] if prompt_tuned_results['seen_total'] > 0 else 0\n",
        "prompt_tuned_unseen_accuracy = prompt_tuned_results['unseen_correct'] / prompt_tuned_results['unseen_total'] if prompt_tuned_results['unseen_total'] > 0 else 0\n",
        "prompt_tuned_overall_accuracy = (prompt_tuned_results['seen_correct'] + prompt_tuned_results['unseen_correct']) / (prompt_tuned_results['seen_total'] + prompt_tuned_results['unseen_total']) if (prompt_tuned_results['seen_total'] + prompt_tuned_results['unseen_total']) > 0 else 0\n",
        "\n",
        "\n",
        "print(f\"\\nPrompt-Tuned Accuracy (Seen Classes): {prompt_tuned_seen_accuracy:.4f}\")\n",
        "print(f\"Prompt-Tuned Accuracy (Unseen Classes): {prompt_tuned_unseen_accuracy:.4f}\")\n",
        "print(f\"Prompt-Tuned Accuracy (Overall): {prompt_tuned_overall_accuracy:.4f}\")\n",
        "\n",
        "\n",
        "print(\"\\nEvaluating zero-shot CLIP on all classes...\")\n",
        "zero_shot_results = {\n",
        "    'seen_correct': 0,\n",
        "    'seen_total': 0,\n",
        "    'unseen_correct': 0,\n",
        "    'unseen_total': 0\n",
        "}\n",
        "\n",
        "def get_zero_shot_text_features(class_names, model, device, dtype):\n",
        "    prompts = [f\"a photo of a {class_name}\" for class_name in class_names]\n",
        "    text_tokens = clip.tokenize(prompts).to(device)\n",
        "    with torch.no_grad():\n",
        "        text_features = model.encode_text(text_tokens).to(dtype)\n",
        "        text_features = text_features / text_features.norm(dim=-1, keepdim=True)\n",
        "    return text_features\n",
        "\n",
        "text_features_zero_shot_all_classes = get_zero_shot_text_features(all_class_names, model, device, image_features_dtype)\n",
        "\n",
        "\n",
        "with torch.no_grad():\n",
        "    for images, labels_idx, class_names_batch in tqdm.tqdm(all_classes_eval_loader, desc=\"Evaluating Zero-Shot\"):\n",
        "        images = images.to(device)\n",
        "        labels_idx = labels_idx.to(device)\n",
        "        image_features = model.encode_image(images)\n",
        "        image_features = image_features / image_features.norm(dim=-1, keepdim=True)\n",
        "        similarity = (temperature * image_features @ text_features_zero_shot_all_classes.T).softmax(dim=-1)\n",
        "        _, predicted_idx = torch.max(similarity.data, 1)\n",
        "        for i in range(images.size(0)):\n",
        "            true_class_name = all_class_names[labels_idx[i].item()]\n",
        "            predicted_class_name = all_class_names[predicted_idx[i].item()]\n",
        "\n",
        "            if true_class_name in seen_classes:\n",
        "                zero_shot_results['seen_total'] += 1\n",
        "                if predicted_class_name == true_class_name:\n",
        "                    zero_shot_results['seen_correct'] += 1\n",
        "            elif true_class_name in unseen_classes:\n",
        "                zero_shot_results['unseen_total'] += 1\n",
        "                if predicted_class_name == true_class_name:\n",
        "                    zero_shot_results['unseen_correct'] += 1\n",
        "\n",
        "zero_shot_seen_accuracy = zero_shot_results['seen_correct'] / zero_shot_results['seen_total'] if zero_shot_results['seen_total'] > 0 else 0\n",
        "zero_shot_unseen_accuracy = zero_shot_results['unseen_correct'] / zero_shot_results['unseen_total'] if zero_shot_results['unseen_total'] > 0 else 0\n",
        "zero_shot_overall_accuracy = (zero_shot_results['seen_correct'] + zero_shot_results['unseen_correct']) / (zero_shot_results['seen_total'] + zero_shot_results['unseen_total']) if (zero_shot_results['seen_total'] + zero_shot_results['unseen_total']) > 0 else 0\n",
        "\n",
        "\n",
        "print(f\"\\nZero-Shot Accuracy (Seen Classes): {zero_shot_seen_accuracy:.4f}\")\n",
        "print(f\"Zero-Shot Accuracy (Unseen Classes): {zero_shot_unseen_accuracy:.4f}\")\n",
        "print(f\"Zero-Shot Accuracy (Overall): {zero_shot_overall_accuracy:.4f}\")\n"
      ],
      "execution_count": null,
      "outputs": [
        {
          "output_type": "stream",
          "name": "stdout",
          "text": [
            "\n",
            "Evaluating prompt-tuned model on all classes...\n"
          ]
        },
        {
          "output_type": "stream",
          "name": "stderr",
          "text": [
            "Evaluating Prompt-Tuned: 100%|██████████| 313/313 [00:29<00:00, 10.56it/s]\n"
          ]
        },
        {
          "output_type": "stream",
          "name": "stdout",
          "text": [
            "\n",
            "Prompt-Tuned Accuracy (Seen Classes): 0.8837\n",
            "Prompt-Tuned Accuracy (Unseen Classes): 0.9639\n",
            "Prompt-Tuned Accuracy (Overall): 0.9152\n",
            "\n",
            "Evaluating zero-shot CLIP on all classes...\n"
          ]
        },
        {
          "output_type": "stream",
          "name": "stderr",
          "text": [
            "Evaluating Zero-Shot: 100%|██████████| 313/313 [00:29<00:00, 10.57it/s]"
          ]
        },
        {
          "output_type": "stream",
          "name": "stdout",
          "text": [
            "\n",
            "Zero-Shot Accuracy (Seen Classes): 0.8921\n",
            "Zero-Shot Accuracy (Unseen Classes): 0.9814\n",
            "Zero-Shot Accuracy (Overall): 0.9272\n"
          ]
        },
        {
          "output_type": "stream",
          "name": "stderr",
          "text": [
            "\n"
          ]
        }
      ]
    },
    {
      "cell_type": "code",
      "metadata": {
        "colab": {
          "base_uri": "https://localhost:8080/",
          "height": 607
        },
        "id": "9faefafd",
        "outputId": "e640463f-314d-4d08-f8f2-003a4ab94ef0"
      },
      "source": [
        "import matplotlib.pyplot as plt\n",
        "import numpy as np\n",
        "\n",
        "labels = ['Seen Classes', 'Unseen Classes']\n",
        "zero_shot_accuracies = [zero_shot_seen_accuracy, zero_shot_unseen_accuracy]\n",
        "prompt_tuned_accuracies = [prompt_tuned_seen_accuracy, prompt_tuned_unseen_accuracy]\n",
        "\n",
        "x = np.arange(len(labels))\n",
        "width = 0.35\n",
        "\n",
        "fig, ax = plt.subplots(figsize=(8, 6))\n",
        "rects1 = ax.bar(x - width/2, zero_shot_accuracies, width, label='Zero-Shot CLIP')\n",
        "rects2 = ax.bar(x + width/2, prompt_tuned_accuracies, width, label='Prompt-Tuned')\n",
        "\n",
        "ax.set_ylabel('Accuracy')\n",
        "ax.set_title('Zero-Shot vs. Prompt-Tuned Accuracy on Seen and Unseen Classes')\n",
        "ax.set_xticks(x)\n",
        "ax.set_xticklabels(labels)\n",
        "ax.set_ylim(0, 1)\n",
        "ax.legend()\n",
        "\n",
        "ax.grid(axis='y', linestyle='--', alpha=0.6)\n",
        "\n",
        "\n",
        "def autolabel(rects):\n",
        "    \"\"\"Attach a text label above each bar in *rects*, displaying its height.\"\"\"\n",
        "    for rect in rects:\n",
        "        height = rect.get_height()\n",
        "        ax.annotate(f'{height:.3f}',\n",
        "                    xy=(rect.get_x() + rect.get_width() / 2, height),\n",
        "                    xytext=(0, 3),\n",
        "                    textcoords=\"offset points\",\n",
        "                    ha='center', va='bottom')\n",
        "\n",
        "autolabel(rects1)\n",
        "autolabel(rects2)\n",
        "\n",
        "fig.tight_layout()\n",
        "\n",
        "plt.show()"
      ],
      "execution_count": null,
      "outputs": [
        {
          "output_type": "display_data",
          "data": {
            "text/plain": [
              "<Figure size 800x600 with 1 Axes>"
            ],
            "image/png": "[encoded data removed]"
          },
          "metadata": {}
        }
      ]
    },
    {
      "cell_type": "markdown",
      "metadata": {
        "id": "fabf4fd3"
      },
      "source": [
        "## Summary:\n",
        "\n",
        "### Q&A\n",
        "\n",
        "Based on the provided data analysis process, here are the answers to the implicit questions regarding the performance comparison:\n",
        "\n",
        "*   **Prompt-Tuned Accuracy (Seen Classes):** 0.8786\n",
        "*   **Zero-Shot Accuracy (Seen Classes):** 0.8921\n",
        "*   **Prompt-Tuned Accuracy (Unseen Classes):** 0.9712\n",
        "*   **Zero-Shot Accuracy (Unseen Classes):** 0.9814\n",
        "*   **Prompt-Tuned Accuracy (Overall):** 0.9150\n",
        "*   **Zero-Shot Accuracy (Overall):** 0.9272\n",
        "\n",
        "### Data Analysis Key Findings\n",
        "\n",
        "*   Zero-shot CLIP demonstrated strong performance on both seen classes (0.8921 accuracy) and unseen classes (0.9814 accuracy) of the PACS dataset, achieving an overall accuracy of 0.9272.\n",
        "*   Prompt tuning on the seen classes resulted in a slight decrease in accuracy on both seen classes (0.8786 accuracy) and unseen classes (0.9712 accuracy) compared to the zero-shot baseline.\n",
        "*   The overall accuracy after prompt tuning (0.9150) was slightly lower than the zero-shot overall accuracy (0.9272).\n",
        "*   The analysis suggests that in this specific experimental setup, prompt tuning on seen classes did not improve performance on either seen or unseen classes and slightly reduced the model's generalization to novel categories compared to the zero-shot performance.\n",
        "\n",
        "### Insights or Next Steps\n",
        "\n",
        "*   The results suggest a potential trade-off where specializing the prompt on a closed set of seen classes might slightly hinder the model's inherent zero-shot generalization capability to unseen classes.\n",
        "*   Future steps could involve experimenting with different prompt tuning strategies (e.g., conditional prompt tuning), tuning hyperparameters (like learning rate or prompt length), or incorporating techniques that explicitly promote generalization or handle novel classes to potentially achieve a better balance between adaptation and open-set performance.\n"
      ]
    }
  ]
}